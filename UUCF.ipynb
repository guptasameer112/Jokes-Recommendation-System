{
 "cells": [
  {
   "cell_type": "markdown",
   "metadata": {},
   "source": [
    "# **User-User Collaborative Filtering**"
   ]
  },
  {
   "cell_type": "code",
   "execution_count": 1,
   "metadata": {},
   "outputs": [],
   "source": [
    "# Imports\n",
    "\n",
    "import pandas as pd\n",
    "import numpy as np"
   ]
  },
  {
   "cell_type": "code",
   "execution_count": 5,
   "metadata": {},
   "outputs": [],
   "source": [
    "# Datasets\n",
    "\n",
    "dataframe_normalized_ratings = pd.read_csv('Preprocessed/normalized_ratings.csv')\n",
    "numpy_ratings_normalized = dataframe_normalized_ratings.to_numpy()\n",
    "\n",
    "dataframe_non_normalized_ratings = pd.read_csv('Preprocessed/non_normalized_ratings.csv')\n",
    "numpy_ratings_non_normalized = dataframe_non_normalized_ratings.to_numpy()\n",
    "\n",
    "dataframe_jokes = pd.read_csv('Preprocessed/dataframe_jokes.csv')"
   ]
  },
  {
   "cell_type": "markdown",
   "metadata": {},
   "source": [
    "## **Functions**"
   ]
  },
  {
   "cell_type": "code",
   "execution_count": 12,
   "metadata": {},
   "outputs": [],
   "source": [
    "def dataframe_split(dataframe, threshold):\n",
    "    \"\"\"\n",
    "    Splits df['user_id] in two different parts based on a threshold of number of jokes rated\n",
    "    Args:\n",
    "        df (pd.DataFrame): joke rating dataframe\n",
    "        threshold (int): threshold of number of jokes rated\n",
    "    Returns:\n",
    "        df_dense (pd.DataFrame): dataframe having user_id's of only those users which have rated jokes above or equal to threshold\n",
    "        df_sparse (pd.DataFrame): dataframe having user_id's of only those users which have rated jokes below threshold\n",
    "    \"\"\"\n",
    "    dataframe_dense = (dataframe[dataframe['number_of_jokes_rated'] >= threshold])['user_id']\n",
    "    dataframe_sparse = (dataframe[dataframe['number_of_jokes_rated'] < threshold])['user_id']\n",
    "    return dataframe_dense, dataframe_sparse\n",
    "\n",
    "def generate_correlation_row(active_user, passive_user_dataset, n1):\n",
    "    \"\"\"\n",
    "    Generates a sorted correlation matrix for an active user for all given passive users\n",
    "    matrix row structure => 0th index: pasive user_id 1st index: its pearson's corelation coefficient with active user\n",
    "    Args:\n",
    "        active_user (int): Contains the user_id of the active user\n",
    "        passive_user_dataset (list<int>): Contains the list of user_ids of the passive users\n",
    "        n1 (np.array): matrix of database containing joke rattings for every user\n",
    "    Returns:\n",
    "        list_corr_i (np.Array): matrix where first ellement represents user id of passive user and second element represets the pearson coefficient of similarity sorted in increasing order\n",
    "    \"\"\"\n",
    "    correlation_list = []\n",
    "\n",
    "    for j in passive_user_dataset:\n",
    "\n",
    "        cv=0\n",
    "        vi=0\n",
    "        vj=0\n",
    "        \n",
    "        for k in range(2,102):\n",
    "            cv+=n1[active_user-1][k]*n1[j-1][k]\n",
    "            vi+=n1[active_user-1][k]*n1[active_user-1][k]\n",
    "            vj+=n1[j-1][k]*n1[j-1][k]\n",
    "        correlation_list.append([j,(cv/((vi**0.5)*(vj**0.5)))])\n",
    "    \n",
    "    correlation_list = np.array(correlation_list)\n",
    "    correlation_list = correlation_list[correlation_list[:,1].argsort()]\n",
    "    return correlation_list\n",
    "\n",
    "def score_user_item(item_id, dataframe_neighbours, neighbour_user_similarity, active_user_mean_rating = 0):\n",
    "    \"\"\"\n",
    "    Predicts the joke rating for the joke id \n",
    "    Args:\n",
    "        neighbours_df (pd.DataFrame): Dataframe of neighbours which willl be used to predict the user ratings\n",
    "        neighbour_user_similarity (np.array):  array of correlation where 0th index: pasive user_id 1st index: its pearson's corelation coefficient with active user\n",
    "        active_user_mean_rating (float): current joke rating of user -> No mean rating yet, so 0\n",
    "    Returns:\n",
    "        score (float): new joke rating\n",
    "    \"\"\"\n",
    "    item_rating = dataframe_neighbours[item_id]\n",
    "    \n",
    "    t1, t2 = 0, 0\n",
    "    for similarity, norm_rating in zip(neighbour_user_similarity, item_rating):\n",
    "        t1+= norm_rating * similarity\n",
    "        t2+= similarity\n",
    "    \n",
    "    score = (t1 + active_user_mean_rating)/t2\n",
    "    \n",
    "    return score\n",
    "\n",
    "def predict_ratings(user_id, dataframe_ratings, similarity_threshold, no_of_neighbours, matrix_row, passive_user_dataset):\n",
    "    \"\"\"\n",
    "    Predicts the missing joke ratings for the given user and returns the final ratings (of all 100 jokes) for further processing\n",
    "    Args:\n",
    "        user_id (int): id of active user\n",
    "        dataframe_ratings (pd.DataFrame): Dataframe of user ratings\n",
    "        similarity_threshold (float): Desiered threshold for similar neigbours\n",
    "        no_of_neighbours(int): Number of neighbours to be considered for rating (nan value indicates that all users of )\n",
    "        matrix_row (np.array): matrix of database containing joke rattings for every user\n",
    "        passive_user_dataset (list<int>): Contains the list of user_ids of the passive users\n",
    "    Returns:\n",
    "        joke_score (pd.DataFrame): new joke ratings for user\n",
    "    \"\"\"\n",
    "    user_rating = dataframe_ratings.loc[user_id-1]\n",
    "    ratings_to_predict = [column for column in dataframe_ratings.columns[2:] if(user_rating[column]==0)]\n",
    "    \n",
    "    correlation_row = generate_correlation_row(user_id,passive_user_dataset,matrix_row)\n",
    "    \n",
    "    # Find index for first usable correlation row\n",
    "    index = 0\n",
    "    while(index<correlation_row.shape[0] and correlation_row[index,1]<similarity_threshold):\n",
    "        index+=1\n",
    "    \n",
    "    neighbours = correlation_row[index:] if(no_of_neighbours!=no_of_neighbours) else(correlation_row[index:])[np.random.choice(correlation_row.shape[0]-index,no_of_neighbours,replace=False)]\n",
    "    dataframe_neighbours_unrated_jokes = (dataframe_ratings[dataframe_ratings['user_id'].isin(neighbours[:, 0])])\n",
    "\n",
    "    \n",
    "    # mechanism of filling joke ratings\n",
    "    joke_score = user_rating.copy()\n",
    "    for column in ratings_to_predict:\n",
    "        score = score_user_item(column, dataframe_neighbours_unrated_jokes, neighbours[:, 1], user_rating[column])\n",
    "        joke_score[column]=score\n",
    "    \n",
    "    \n",
    "    # converting to dataframe\n",
    "    dataframe_joke_score = pd.DataFrame(joke_score)\n",
    "    dataframe_joke_score = joke_score.transpose()\n",
    "    dataframe_joke_score['user_id'] = user_id\n",
    "    dataframe_joke_score['number_of_jokes_rated'] = len(ratings_to_predict)\n",
    "    display(dataframe_joke_score)\n",
    "    \n",
    "    return joke_score\n",
    "\n",
    "def print_recommended_jokes(user_unrated, num_recommend_joke, dataframe_joke):\n",
    "    \"\"\"\n",
    "    Prints the recommended jokes useing setted parameters\n",
    "\n",
    "    Args:\n",
    "        joke_score (pd.DataFrame): row of dataframe from which we need to recommend the jokes\n",
    "        no_jokes (int): no  of jokes to recommend\n",
    "        joke_df (dict): dataframe of jokes\n",
    "    Returns:\n",
    "        None\n",
    "    \"\"\"\n",
    "\n",
    "    print(\"Recommending Jokes for user {}\".format(user_unrated['user_id']))\n",
    "    \n",
    "    for i,k in zip(range(num_recommend_joke),(np.argsort((user_unrated.to_numpy())[2:])[::-1])[:num_recommend_joke]):\n",
    "        print(\"Joke {}: {}\".format(i+1,dataframe_joke.loc[k]['joke']))\n",
    "\n",
    "def uccf_recommender(user_id, dataframe_rating, dataframe_jokes, matrix_row):\n",
    "    \"\"\"\n",
    "    Recommends jokes for the given user\n",
    "    Args:\n",
    "        user_id (int): id of active user\n",
    "        df (pd.DataFrame): Dataframe of user ratings\n",
    "        n1 (np.array): matrix of database containing joke rattings for every user\n",
    "        joke_df (dict): Contains the data of all jokes\n",
    "    Returns:\n",
    "        None\n",
    "    \"\"\"\n",
    "    threshold_no_of_ratings = 100\n",
    "    similarity_threshold = 0.1\n",
    "    # could be nan as well for considering all possible neighbours\n",
    "    no_of_neighbours = 30\n",
    "    dataframe_dense, dataframe_sparse = dataframe_split(dataframe_rating, threshold_no_of_ratings)\n",
    "    print_recommended_jokes(predict_ratings(user_id, dataframe_rating, similarity_threshold, no_of_neighbours, matrix_row, dataframe_dense), 20, dataframe_jokes)"
   ]
  },
  {
   "cell_type": "markdown",
   "metadata": {},
   "source": [
    "## **Non-Normalized Data**"
   ]
  },
  {
   "cell_type": "code",
   "execution_count": 13,
   "metadata": {},
   "outputs": [
    {
     "data": {
      "text/plain": [
       "user_id                  68388.000000\n",
       "number_of_jokes_rated       72.000000\n",
       "joke_1                       2.714499\n",
       "joke_2                       1.398703\n",
       "joke_3                       2.590480\n",
       "                             ...     \n",
       "joke_96                      3.045859\n",
       "joke_97                      4.111090\n",
       "joke_98                      2.110463\n",
       "joke_99                      1.942481\n",
       "joke_100                     2.579359\n",
       "Name: 68387, Length: 102, dtype: float64"
      ]
     },
     "metadata": {},
     "output_type": "display_data"
    },
    {
     "name": "stdout",
     "output_type": "stream",
     "text": [
      "Recommending Jokes for user 68388.0\n",
      "Joke 1: A woman has twins, and gives them up for adoption.  One ofthem goes to a family in Egypt and is named \"Amal.\"  The other goes toa  family in Spain; they name him \"Juan.\"  Years later, Juan sends apicture of himself to his mom.  Upon receiving the picture, she tellsher husband that she wishes she also had a picture of Amal.  Her husband responds, \"But they are twins-if you've seen Juan, you'veseen   Amal.\n",
      "Joke 2: A neutron walks into a bar and orders a drink.\"How much do I owe you?\" the neutron asks.The bartender replies, \"for you, no charge.\"\n",
      "Joke 3: A man piloting a hot air balloon discovers he has wandered off course andis hopelessly lost. He descends to a lower altitude and locates a mandown on the ground. He lowers the balloon further and shouts \"Excuse me,can you tell me where I am?\"The man below says: \"Yes, you're in a hot air balloon, about 30 feetabove this field.\"\"You must work in Information Technology,\" says the balloonist.\"Yes I do,\" replies the man. \"And how did you know that?\"\"Well,\" says the balloonist, \"what you told me is technically correct,but of no use to anyone.\"The man below says, \"You must work in management.\"\"I do,\" replies the balloonist, \"how did you know?\"\"Well,\" says the man, \"you don't know where you are, or where you'regoing, but you expect my immediate help. You're in the same position youwere before we met, but now it's my fault!\"\n",
      "Joke 4: A group of  managers were given the assignment to measure theheight of a flagpole. So they go out to the flagpole with laddersand tape measures, and they're falling off the ladders, droppingthe tape measures - the whole thing is just a mess.An engineer comes along and sees what they're trying to do,walks over, pulls the flagpole out of the ground, lays it flat,measures it from end to end, gives the measurement to one of themanagers and walks away.After the engineer has gone, one manager turns to another andlaughs. \"Isn't that just like an engineer, we're looking for the height and he gives us the length.\"\n",
      "Joke 5: An old Scotsmen is sitting with a younger Scottish gentleman and says the boy. \"Ah, lad look out that window. You see that stone wall there, I built it withme own bare hands, placed every stone meself.  But do they call me MacGregor thewall builder? No! He Takes a few sips of his beer then says, \"Aye, and look out on that lake and eye that beautiful pier. I built it meself, laid every board and hammered eachnail but do they call me MacGregor the pier builder? No! He continues...\"And lad, you see that road? That too I build with me own bare hands. Laid every inch of pavement meself, but do they call MacGregor the roadbuilder? No!\"Again he returns to his beer for a few sips, then says, \"Agh, but you screw one sheep...\"\n",
      "Joke 6: The Pope dies and, naturally, goes to heaven. He's met by the receptioncommittee, and after a whirlwind tour he is told that he can enjoy anyof the myriad of recreations available.He decides that he wants to read all of the ancient original text of theHoly Scriptures, so he spends the next eon or so learning languages.After becoming a linguistic master, he sits down in the library andbegins to pour over every version of the Bible, working back from mostrecent \"Easy Reading\" to the original script.All of a sudden there is a scream in the library. The Angels comerunning in only to find the Pope huddled in his chair, crying to himselfand muttering, \"An 'R'! The scribes left out the 'R'.\" A particularly concerned Angel takes him aside, offering comfort, askshim what the problem is and what does he mean. After collecting hiswits, the Pope sobs again, \"It's the letter 'R'. They left out the 'R'.The word was supposed to be CELEBRATE!\"\n",
      "Joke 7: Q. Did you hear about the dyslexic devil worshiper? A. He sold his soul to Santa.\n",
      "Joke 8: Two men are discussing the age old question: who enjoys sex more, theman or the woman?  A woman walks by and listens in for awhile and theninterrupts: \"Listen you guys. You know when your ear itches and you put in your little finger and wiggle it around for awhile?  Afterward,which feels better, your finger or your ear?\"\n",
      "Joke 9: On the first day of college, the Dean addressed the students,pointing out some of the rules:\"The female dormitory will be out-of-bounds for all male studentsand the male dormitory to the female students. Anybody caught breakingthis rule will be finded $20 the first time.\" He continued, \"Anybody caught breaking this rule the second time will be fined $60. Being caughta third time will cost you a fine of $180. Are there any questions ?\"At this point, a male student in the crowd inquired:\"How much for a season pass ?\"\n",
      "Joke 10: Reaching the end of a job interview, the human resources person asked ayoung engineer fresh out of Stanford,\"And what starting salary were you looking for?\"The engineer said, \"In the neighborhood of $125,000 a year, dependingon the benefits package.\"The interviewer said, \"Well, what would you say to a package of 5-weeks vacation, 14 paid holidays, full medical and dental, company matching retirement fund to 50% of salary, and a company car leased every 2 years - say, a red Corvette?\"The Engineer sat up straight and said, \"Wow! Are you kidding?\"And the interviewer replied, \"Yeah, but you started it.\"\n",
      "Joke 11: This guys wife asks, \"Honey if I died would you remarry?\" and he replies,\"Well, after a considerable period of grieving, we all needcompanionship, I guess I would.\"She then asks, \"If I died and you remarried, would she live in thishouse?\" and he replies, \"We've spent a lot of time and money getting thishouse just the way we want it. I'm not going to get rid of my house, Iguess she would.\"\"If I died and you remarried, and she lived in this house, would shesleep in our bed?\" and he says, \"That bed is brand new, we just paid twothousand dollars for it, it's going to last a long time, I guess shewould.\"So she asks, \"If I died and you remarried, and she lived in this house,and slept in our bed, would she use my golf clubs?\"\"Oh no, she's left handed.\"\n",
      "Joke 12: A mechanical, electrical and a software engineer from Microsoft weredriving through the desert when the car broke down. The mechanicalengineer said \"It seems to be a problem with the fuel injection system,why don't we pop the hood and I'll take a look at it.\" To which theelectrical engineer replied, \"No I think it's just a loose ground wire,I'll get out and take a look.\" Then, the Microsoft engineer jumps in.\"No, no, no. If we just close up all the windows, get out, wait a fewminutes, get back in, and then reopen the windows everything will workfine.\"\n",
      "Joke 13: There once was a man and a woman that both  got in  a terrible car wreck. Both of their vehicles  were completely destroyed, buy fortunately, no one  was   hurt.  In thankfulness, the woman said to the man, 'We are both okay, so we should celebrate. I have   a  bottle of wine in my car, let's open it.'         So the woman got the bottleout of the car, and  handed it to the man. The man took a really big drink, and handed the woman the bottle. The  woman  closed the bottle and put it down. The man  asked,  'Aren't you going to take a drink?' The woman cleverly replied, 'No, I think I'll  just  wait for the cops to get here.'\n",
      "Joke 14: What a woman says:\"This place is a mess!  C'mon,You and I need to clean up,Your stuff is lying on the floor andyou'll have no clothes to wear,if we don't do laundry right now!\"What a man hears:blah, blah, blah, blah, C'monblah, blah, blah, blah, you and Iblah, blah, blah, blah, on the floorblah, blah, blah, blah, no clothesblah, blah, blah, blah, RIGHT NOW!\n",
      "Joke 15: A teacher is explaining to her class how different languages use negatives differently.  She says, \"In all languages, a positive followedby a negative or a negative followed by a positive makes a negative.  Insome languages, two negatives together make a positive, while in others theymake a negative.  But in no language do two positives make a negative.\"  One of the students puts up his hand and says, \"Yeah, right.\"\n",
      "Joke 16: How many Irishmen does it take to change a lightbulb?Two, one to hold the lightbulb and the other to drink until the room spins. \n",
      "Joke 17: A Panda bear walks into a bar.  Sits down at a table and orders a beer and a double cheeseburger.  After he is finished eating, he pulls out a gunand rips the place with gunfire.  Patrons scatter and dive under chairs andtables as the bear runs out the door.  After ensuring that no one is hurt, the bartender races out the door, and calls after the bear \"What the hell didyou do that for?\"  The bear calls back, \"I'm a Panda bear.  Look it up in thedictionary.\"  The bartender returns, pulls out his dictionary.panda : \\Pan\"da\\, n. (Zo[\"o]l.)A small Asiatic mammal (Ailurus fulgens) having fine soft fur.It is related to the bears, and inhabits the mountains of Northern India.Eats shoots and leaves.\n",
      "Joke 18: Q: How many programmers does it take to change a lightbulb?A: NONE!   That's a hardware problem....\n",
      "Joke 19: The graduate with a Science degree asks, \"Why does it work?\"The graduate with an Engineering degree asks, \"How does it work?\"The graduate with an Accounting degree Asks, \"How much will it cost?\" The graduate with a  Liberal Arts degree asks, \"Do you want fries with  that?\"\n",
      "Joke 20: A radio conversation of a US naval ship with Canadian authorities ... Americans: Please divert your course 15 degrees to the North to avoid acollision.Canadians: Recommend you divert YOUR course 15 degrees to the South to avoid a collision.Americans: This is the Captain of a US Navy ship.  I say again, divert YOUR course.Canadians: No.  I say again, you divert YOUR course.Americans: This is the aircraft carrier USS LINCOLN, the second largest ship in the United States' Atlantic Fleet. We are accompanied by three destroyers, three cruisers and numerous support vessels. I demand that you change your course 15 degrees north, that's ONE FIVE DEGREES NORTH, or counter-measures will be undertaken to ensure the safety of this ship.Canadians: This is a lighthouse.  Your call.\n"
     ]
    }
   ],
   "source": [
    "user_id = 68388\n",
    "uccf_recommender(user_id, dataframe_non_normalized_ratings, dataframe_jokes, numpy_ratings_non_normalized)"
   ]
  },
  {
   "cell_type": "markdown",
   "metadata": {},
   "source": [
    "## **Normalized**"
   ]
  },
  {
   "cell_type": "code",
   "execution_count": 7,
   "metadata": {},
   "outputs": [
    {
     "name": "stdout",
     "output_type": "stream",
     "text": [
      "Recommending Jokes for user 68388.0\n",
      "Joke 1: A woman has twins, and gives them up for adoption.  One ofthem goes to a family in Egypt and is named \"Amal.\"  The other goes toa  family in Spain; they name him \"Juan.\"  Years later, Juan sends apicture of himself to his mom.  Upon receiving the picture, she tellsher husband that she wishes she also had a picture of Amal.  Her husband responds, \"But they are twins-if you've seen Juan, you'veseen   Amal.\n",
      "Joke 2: A neutron walks into a bar and orders a drink.\"How much do I owe you?\" the neutron asks.The bartender replies, \"for you, no charge.\"\n",
      "Joke 3: A man piloting a hot air balloon discovers he has wandered off course andis hopelessly lost. He descends to a lower altitude and locates a mandown on the ground. He lowers the balloon further and shouts \"Excuse me,can you tell me where I am?\"The man below says: \"Yes, you're in a hot air balloon, about 30 feetabove this field.\"\"You must work in Information Technology,\" says the balloonist.\"Yes I do,\" replies the man. \"And how did you know that?\"\"Well,\" says the balloonist, \"what you told me is technically correct,but of no use to anyone.\"The man below says, \"You must work in management.\"\"I do,\" replies the balloonist, \"how did you know?\"\"Well,\" says the man, \"you don't know where you are, or where you'regoing, but you expect my immediate help. You're in the same position youwere before we met, but now it's my fault!\"\n",
      "Joke 4: A group of  managers were given the assignment to measure theheight of a flagpole. So they go out to the flagpole with laddersand tape measures, and they're falling off the ladders, droppingthe tape measures - the whole thing is just a mess.An engineer comes along and sees what they're trying to do,walks over, pulls the flagpole out of the ground, lays it flat,measures it from end to end, gives the measurement to one of themanagers and walks away.After the engineer has gone, one manager turns to another andlaughs. \"Isn't that just like an engineer, we're looking for the height and he gives us the length.\"\n",
      "Joke 5: An old Scotsmen is sitting with a younger Scottish gentleman and says the boy. \"Ah, lad look out that window. You see that stone wall there, I built it withme own bare hands, placed every stone meself.  But do they call me MacGregor thewall builder? No! He Takes a few sips of his beer then says, \"Aye, and look out on that lake and eye that beautiful pier. I built it meself, laid every board and hammered eachnail but do they call me MacGregor the pier builder? No! He continues...\"And lad, you see that road? That too I build with me own bare hands. Laid every inch of pavement meself, but do they call MacGregor the roadbuilder? No!\"Again he returns to his beer for a few sips, then says, \"Agh, but you screw one sheep...\"\n",
      "Joke 6: Q. Did you hear about the dyslexic devil worshiper? A. He sold his soul to Santa.\n",
      "Joke 7: A radio conversation of a US naval ship with Canadian authorities ... Americans: Please divert your course 15 degrees to the North to avoid acollision.Canadians: Recommend you divert YOUR course 15 degrees to the South to avoid a collision.Americans: This is the Captain of a US Navy ship.  I say again, divert YOUR course.Canadians: No.  I say again, you divert YOUR course.Americans: This is the aircraft carrier USS LINCOLN, the second largest ship in the United States' Atlantic Fleet. We are accompanied by three destroyers, three cruisers and numerous support vessels. I demand that you change your course 15 degrees north, that's ONE FIVE DEGREES NORTH, or counter-measures will be undertaken to ensure the safety of this ship.Canadians: This is a lighthouse.  Your call.\n",
      "Joke 8: A man arrives at the gates of heaven. St. Peter asks, \"Religion?\" The man says, \"Methodist.\" St. Peter looks down his list, and says, \"Go to room 24, but be very quiet as you pass room 8.\" Another man arrives at the gates of heaven. \"Religion?\"\"Baptist.\" \"Go to room 18, but be very quiet as you pass room 8.\" A third man arrives at the gates. \"Religion?\" \"Jewish.\"\"Go to room 11, but be very quiet as you pass room 8.\" The man says, \"I can understand there being different rooms for different religions, but whymust I be quiet when I pass room 8?\" St. Peter tells him, \"Well the Catholics are in room 8, and they think they're the only ones here.\n",
      "Joke 9: One Sunday morning William burst into the living room and said,\"Dad! Mom! I have some great news for you! I am getting marriedto the most beautiful girl in town. She lives a block away andher name is Susan.\"After dinner, William's dad took him aside. \"Son, I have to talkwith you. Your mother and I have been married 30 years.. She's awonderful wife but she has never offered much excitement in thebedroom, so I used to fool around with women a lot. Susan isactually your half-sister, and I'm afraid you can't marry her.\"William was heart-broken. After eight months he eventuallystarted dating girls again. A year later he came home and veryproudly announced, \"Dianne said yes! We're getting married inJune.\"Again his father insisted on another private conversation andbroke the sad news. \"Dianne is your half-sister too, William. I'mawfully sorry about this.\"William was furious! He finally decided to go to his mother withthe news.\"Dad has done so much harm.. I guess I'm never going to getmarried,\"  he complained. \"Every time I fall in love, Dad tellsme the girl is my half-sister.\"His mother just shook her head. \"Don't pay any attention to whathe says, dear. He's not really your father.\"\n",
      "Joke 10: Q.\tWhat's O. J. Simpson's Internet address? A.\tSlash, slash, backslash, slash, slash, escape.\n",
      "Joke 11: How many feminists does it take to screw in a light bulb?That's not funny.\n",
      "Joke 12: What's the difference between a MacIntosh and anEtch-A-Sketch? You don't have to shake the Mac to clear the screen. \n",
      "Joke 13: A Panda bear walks into a bar.  Sits down at a table and orders a beer and a double cheeseburger.  After he is finished eating, he pulls out a gunand rips the place with gunfire.  Patrons scatter and dive under chairs andtables as the bear runs out the door.  After ensuring that no one is hurt, the bartender races out the door, and calls after the bear \"What the hell didyou do that for?\"  The bear calls back, \"I'm a Panda bear.  Look it up in thedictionary.\"  The bartender returns, pulls out his dictionary.panda : \\Pan\"da\\, n. (Zo[\"o]l.)A small Asiatic mammal (Ailurus fulgens) having fine soft fur.It is related to the bears, and inhabits the mountains of Northern India.Eats shoots and leaves.\n",
      "Joke 14: Q: If a person who speaks three languages is called \"tri-lingual,\" anda person who speaks two languages is called \"bi-lingual,\" what do calla person who only speaks one language?A: American! \n",
      "Joke 15: On the first day of college, the Dean addressed the students,pointing out some of the rules:\"The female dormitory will be out-of-bounds for all male studentsand the male dormitory to the female students. Anybody caught breakingthis rule will be finded $20 the first time.\" He continued, \"Anybody caught breaking this rule the second time will be fined $60. Being caughta third time will cost you a fine of $180. Are there any questions ?\"At this point, a male student in the crowd inquired:\"How much for a season pass ?\"\n",
      "Joke 16: Reaching the end of a job interview, the human resources person asked ayoung engineer fresh out of Stanford,\"And what starting salary were you looking for?\"The engineer said, \"In the neighborhood of $125,000 a year, dependingon the benefits package.\"The interviewer said, \"Well, what would you say to a package of 5-weeks vacation, 14 paid holidays, full medical and dental, company matching retirement fund to 50% of salary, and a company car leased every 2 years - say, a red Corvette?\"The Engineer sat up straight and said, \"Wow! Are you kidding?\"And the interviewer replied, \"Yeah, but you started it.\"\n",
      "Joke 17: A Czechoslovakian man felt his eyesight was growing steadily worse, and felt it was time to go see an optometrist. The doctor started with some simple testing, and showed him a standard eye chart with letters ofdiminishing size: CRKBNWXSKZY. . . \"Can you read this?\" the doctor asked. \"Read it?\" the Czech answered. \"Doc, I know him!\"\n",
      "Joke 18: The Pope dies and, naturally, goes to heaven. He's met by the receptioncommittee, and after a whirlwind tour he is told that he can enjoy anyof the myriad of recreations available.He decides that he wants to read all of the ancient original text of theHoly Scriptures, so he spends the next eon or so learning languages.After becoming a linguistic master, he sits down in the library andbegins to pour over every version of the Bible, working back from mostrecent \"Easy Reading\" to the original script.All of a sudden there is a scream in the library. The Angels comerunning in only to find the Pope huddled in his chair, crying to himselfand muttering, \"An 'R'! The scribes left out the 'R'.\" A particularly concerned Angel takes him aside, offering comfort, askshim what the problem is and what does he mean. After collecting hiswits, the Pope sobs again, \"It's the letter 'R'. They left out the 'R'.The word was supposed to be CELEBRATE!\"\n",
      "Joke 19: This guys wife asks, \"Honey if I died would you remarry?\" and he replies,\"Well, after a considerable period of grieving, we all needcompanionship, I guess I would.\"She then asks, \"If I died and you remarried, would she live in thishouse?\" and he replies, \"We've spent a lot of time and money getting thishouse just the way we want it. I'm not going to get rid of my house, Iguess she would.\"\"If I died and you remarried, and she lived in this house, would shesleep in our bed?\" and he says, \"That bed is brand new, we just paid twothousand dollars for it, it's going to last a long time, I guess shewould.\"So she asks, \"If I died and you remarried, and she lived in this house,and slept in our bed, would she use my golf clubs?\"\"Oh no, she's left handed.\"\n",
      "Joke 20: \"May I take your order?\" the waiter asked. \"Yes, how do you prepare your chickens?\" \"Nothing special sir,\" he replied. \"We just tell them straight outthat they're going to die.\"\n"
     ]
    }
   ],
   "source": [
    "uccf_recommender(user_id, dataframe_normalized_ratings, dataframe_jokes, numpy_ratings_normalized)"
   ]
  },
  {
   "cell_type": "markdown",
   "metadata": {},
   "source": [
    "## **Evaluation**"
   ]
  },
  {
   "cell_type": "code",
   "execution_count": null,
   "metadata": {},
   "outputs": [],
   "source": []
  }
 ],
 "metadata": {
  "kernelspec": {
   "display_name": "Python 3",
   "language": "python",
   "name": "python3"
  },
  "language_info": {
   "codemirror_mode": {
    "name": "ipython",
    "version": 3
   },
   "file_extension": ".py",
   "mimetype": "text/x-python",
   "name": "python",
   "nbconvert_exporter": "python",
   "pygments_lexer": "ipython3",
   "version": "3.10.1"
  }
 },
 "nbformat": 4,
 "nbformat_minor": 2
}
