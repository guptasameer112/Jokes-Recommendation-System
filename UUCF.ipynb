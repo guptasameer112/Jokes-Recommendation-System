{
 "cells": [
  {
   "cell_type": "markdown",
   "metadata": {},
   "source": [
    "# **User-User Collaborative Filtering**"
   ]
  },
  {
   "cell_type": "code",
   "execution_count": 1,
   "metadata": {},
   "outputs": [],
   "source": [
    "# Imports\n",
    "\n",
    "import pandas as pd\n",
    "import numpy as np"
   ]
  },
  {
   "cell_type": "code",
   "execution_count": 2,
   "metadata": {},
   "outputs": [],
   "source": [
    "# Datasets\n",
    "\n",
    "dataframe_normalized_ratings = pd.read_csv('Preprocessed/normalized_ratings.csv')\n",
    "numpy_ratings_normalized = dataframe_normalized_ratings.to_numpy()\n",
    "\n",
    "dataframe_non_normalized_ratings = pd.read_csv('Preprocessed/non_normalized_ratings.csv')\n",
    "numpy_ratings_non_normalized = dataframe_non_normalized_ratings.to_numpy()\n",
    "\n",
    "dataframe_jokes = pd.read_csv('Preprocessed/dataframe_jokes.csv')"
   ]
  },
  {
   "cell_type": "markdown",
   "metadata": {},
   "source": [
    "## **Functions**"
   ]
  },
  {
   "cell_type": "code",
   "execution_count": 3,
   "metadata": {},
   "outputs": [],
   "source": [
    "def dataframe_split(dataframe, threshold):\n",
    "    \"\"\"\n",
    "    Splits df['user_id] in two different parts based on a threshold of number of jokes rated\n",
    "    Args:\n",
    "        df (pd.DataFrame): joke rating dataframe\n",
    "        threshold (int): threshold of number of jokes rated\n",
    "    Returns:\n",
    "        df_dense (pd.DataFrame): dataframe having user_id's of only those users which have rated jokes above or equal to threshold\n",
    "        df_sparse (pd.DataFrame): dataframe having user_id's of only those users which have rated jokes below threshold\n",
    "    \"\"\"\n",
    "    dataframe_dense = (dataframe[dataframe['number_of_jokes_rated'] >= threshold])['user_id']\n",
    "    dataframe_sparse = (dataframe[dataframe['number_of_jokes_rated'] < threshold])['user_id']\n",
    "    return dataframe_dense, dataframe_sparse\n",
    "\n",
    "def generate_correlation_row(active_user, passive_user_dataset, n1):\n",
    "    \"\"\"\n",
    "    Generates a sorted correlation matrix for an active user for all given passive users\n",
    "    matrix row structure => 0th index: pasive user_id 1st index: its pearson's corelation coefficient with active user\n",
    "    Args:\n",
    "        active_user (int): Contains the user_id of the active user\n",
    "        passive_user_dataset (list<int>): Contains the list of user_ids of the passive users\n",
    "        n1 (np.array): matrix of database containing joke rattings for every user\n",
    "    Returns:\n",
    "        list_corr_i (np.Array): matrix where first ellement represents user id of passive user and second element represets the pearson coefficient of similarity sorted in increasing order\n",
    "    \"\"\"\n",
    "    correlation_list = []\n",
    "\n",
    "    for j in passive_user_dataset:\n",
    "\n",
    "        cv=0\n",
    "        vi=0\n",
    "        vj=0\n",
    "        \n",
    "        for k in range(2,102):\n",
    "            cv+=n1[active_user-1][k]*n1[j-1][k]\n",
    "            vi+=n1[active_user-1][k]*n1[active_user-1][k]\n",
    "            vj+=n1[j-1][k]*n1[j-1][k]\n",
    "        correlation_list.append([j,(cv/((vi**0.5)*(vj**0.5)))])\n",
    "    \n",
    "    correlation_list = np.array(correlation_list)\n",
    "    correlation_list = correlation_list[correlation_list[:,1].argsort()]\n",
    "    return correlation_list\n",
    "\n",
    "def score_user_item(item_id, dataframe_neighbours, neighbour_user_similarity, active_user_mean_rating = 0):\n",
    "    \"\"\"\n",
    "    Predicts the joke rating for the joke id \n",
    "    Args:\n",
    "        neighbours_df (pd.DataFrame): Dataframe of neighbours which willl be used to predict the user ratings\n",
    "        neighbour_user_similarity (np.array):  array of correlation where 0th index: pasive user_id 1st index: its pearson's corelation coefficient with active user\n",
    "        active_user_mean_rating (float): current joke rating of user -> No mean rating yet, so 0\n",
    "    Returns:\n",
    "        score (float): new joke rating\n",
    "    \"\"\"\n",
    "    item_rating = dataframe_neighbours[item_id]\n",
    "    \n",
    "    t1, t2 = 0, 0\n",
    "    for similarity, norm_rating in zip(neighbour_user_similarity, item_rating):\n",
    "        t1+= norm_rating * similarity\n",
    "        t2+= similarity\n",
    "    \n",
    "    score = (t1 + active_user_mean_rating)/t2\n",
    "    \n",
    "    return score\n",
    "\n",
    "def predict_ratings(user_id, dataframe_ratings, similarity_threshold, no_of_neighbours, matrix_row, passive_user_dataset):\n",
    "    \"\"\"\n",
    "    Predicts the missing joke ratings for the given user and returns the final ratings (of all 100 jokes) for further processing\n",
    "    Args:\n",
    "        user_id (int): id of active user\n",
    "        dataframe_ratings (pd.DataFrame): Dataframe of user ratings\n",
    "        similarity_threshold (float): Desiered threshold for similar neigbours\n",
    "        no_of_neighbours(int): Number of neighbours to be considered for rating (nan value indicates that all users of )\n",
    "        matrix_row (np.array): matrix of database containing joke rattings for every user\n",
    "        passive_user_dataset (list<int>): Contains the list of user_ids of the passive users\n",
    "    Returns:\n",
    "        joke_score (pd.DataFrame): new joke ratings for user\n",
    "    \"\"\"\n",
    "    user_rating = dataframe_ratings.loc[user_id-1]\n",
    "    ratings_to_predict = [column for column in dataframe_ratings.columns[2:] if(user_rating[column]==0)]\n",
    "    \n",
    "    correlation_row = generate_correlation_row(user_id,passive_user_dataset,matrix_row)\n",
    "    \n",
    "    # Find index for first usable correlation row\n",
    "    index = 0\n",
    "    while(index<correlation_row.shape[0] and correlation_row[index,1]<similarity_threshold):\n",
    "        index+=1\n",
    "    \n",
    "    neighbours = correlation_row[index:] if(no_of_neighbours!=no_of_neighbours) else(correlation_row[index:])[np.random.choice(correlation_row.shape[0]-index,no_of_neighbours,replace=False)]\n",
    "    dataframe_neighbours_unrated_jokes = (dataframe_ratings[dataframe_ratings['user_id'].isin(neighbours[:, 0])])\n",
    "\n",
    "    \n",
    "    # mechanism of filling joke ratings\n",
    "    joke_score = user_rating.copy()\n",
    "    for column in ratings_to_predict:\n",
    "        score = score_user_item(column, dataframe_neighbours_unrated_jokes, neighbours[:, 1], user_rating[column])\n",
    "        joke_score[column]=score\n",
    "    \n",
    "    \n",
    "    # converting to dataframe\n",
    "    dataframe_joke_score = pd.DataFrame(joke_score)\n",
    "    dataframe_joke_score = joke_score.transpose()\n",
    "    dataframe_joke_score['user_id'] = user_id\n",
    "    dataframe_joke_score['number_of_jokes_rated'] = len(ratings_to_predict)\n",
    "    display(dataframe_joke_score)\n",
    "    \n",
    "    return joke_score\n",
    "\n",
    "def print_recommended_jokes(user_unrated, num_recommend_joke, dataframe_joke):\n",
    "    \"\"\"\n",
    "    Prints the recommended jokes useing setted parameters\n",
    "\n",
    "    Args:\n",
    "        joke_score (pd.DataFrame): row of dataframe from which we need to recommend the jokes\n",
    "        no_jokes (int): no  of jokes to recommend\n",
    "        joke_df (dict): dataframe of jokes\n",
    "    Returns:\n",
    "        None\n",
    "    \"\"\"\n",
    "\n",
    "    print(\"Recommending Jokes for user {}\".format(user_unrated['user_id']))\n",
    "    \n",
    "    for i,k in zip(range(num_recommend_joke),(np.argsort((user_unrated.to_numpy())[2:])[::-1])[:num_recommend_joke]):\n",
    "        print(\"Joke {}: {}\".format(i+1,dataframe_joke.loc[k]['joke']))\n",
    "\n",
    "def uccf_recommender(user_id, dataframe_rating, dataframe_jokes, matrix_row):\n",
    "    \"\"\"\n",
    "    Recommends jokes for the given user\n",
    "    Args:\n",
    "        user_id (int): id of active user\n",
    "        df (pd.DataFrame): Dataframe of user ratings\n",
    "        n1 (np.array): matrix of database containing joke rattings for every user\n",
    "        joke_df (dict): Contains the data of all jokes\n",
    "    Returns:\n",
    "        None\n",
    "    \"\"\"\n",
    "    threshold_no_of_ratings = 100\n",
    "    similarity_threshold = 0.1\n",
    "    # could be nan as well for considering all possible neighbours\n",
    "    no_of_neighbours = 30\n",
    "    dataframe_dense, dataframe_sparse = dataframe_split(dataframe_rating, threshold_no_of_ratings)\n",
    "    print_recommended_jokes(predict_ratings(user_id, dataframe_rating, similarity_threshold, no_of_neighbours, matrix_row, dataframe_dense), 20, dataframe_jokes)"
   ]
  },
  {
   "cell_type": "markdown",
   "metadata": {},
   "source": [
    "## **Non-Normalized Data**"
   ]
  },
  {
   "cell_type": "code",
   "execution_count": 4,
   "metadata": {},
   "outputs": [
    {
     "data": {
      "text/plain": [
       "user_id                  68388.000000\n",
       "number_of_jokes_rated       72.000000\n",
       "joke_1                       0.706371\n",
       "joke_2                      -0.278064\n",
       "joke_3                      -1.469362\n",
       "                             ...     \n",
       "joke_96                      1.440801\n",
       "joke_97                      2.757948\n",
       "joke_98                     -0.888913\n",
       "joke_99                      0.830083\n",
       "joke_100                    -0.310334\n",
       "Name: 68387, Length: 102, dtype: float64"
      ]
     },
     "metadata": {},
     "output_type": "display_data"
    },
    {
     "name": "stdout",
     "output_type": "stream",
     "text": [
      "Recommending Jokes for user 68388.0\n",
      "Joke 1:  A woman has twins, and gives them up for adoption.  One of them goes to a family in Egypt and is named \"Amal.\"  The other goes to a  family in Spain; they name him \"Juan.\"  Years later, Juan sends a picture of himself to his mom.  Upon receiving the picture, she tells her husband that she wishes she also had a picture of Amal.    Her husband responds, \"But they are twins-if you've seen Juan, you've seen   Amal. \n",
      "Joke 2:  A neutron walks into a bar and orders a drink. \"How much do I owe you?\" the neutron asks.   The bartender replies,  \"for you, no charge.\"  \n",
      "Joke 3:  A man piloting a hot air balloon discovers he has wandered off course and is hopelessly lost. He descends to a lower altitude and locates a man down on the ground. He lowers the balloon further and shouts \"Excuse me, can you tell me where I am?\"   The man below says: \"Yes, you're in a hot air balloon, about 30 feet above this field.\"   \"You must work in Information Technology,\" says the balloonist.   \"Yes I do,\" replies the man. \"And how did you know that?\"   \"Well,\" says the balloonist, \"what you told me is technically correct, but of no use to anyone.\"   The man below says, \"You must work in management.\"   \"I do,\" replies the balloonist, \"how did you know?\"   \"Well,\" says the man, \"you don't know where you are, or where you're going, but you expect my immediate help. You're in the same position you were before we met, but now it's my fault!\"   \n",
      "Joke 4:  A group of  managers were given the assignment to measure the height of a flagpole. So they go out to the flagpole with ladders and tape measures, and they're falling off the ladders, dropping the tape measures - the whole thing is just a mess. An engineer comes along and sees what they're trying to do, walks over, pulls the flagpole out of the ground, lays it flat, measures it from end to end, gives the measurement to one of the managers and walks away.  After the engineer has gone, one manager turns to another and laughs. \"Isn't that just like an engineer, we're looking for the  height and he gives us the length.\" \n",
      "Joke 5:  An old Scotsmen is sitting with a younger Scottish gentleman and says the boy.  \"Ah, lad look out that window. You see that stone wall there, I built it with me own bare hands, placed every stone meself.  But do they call me MacGregor the wall builder? No!    He Takes a few sips of his beer then says, \"Aye, and look out on that lake and  eye that beautiful pier. I built it meself, laid every board and hammered each nail but do they call me MacGregor the pier builder? No!    He continues...\"And lad, you see that road? That too I build with me own bare  hands. Laid every inch of pavement meself, but do they call MacGregor the road builder? No!\"  Again he returns to his beer for a few sips, then says,  \"Agh, but you screw one sheep...\" \n",
      "Joke 6:  Q. Did you hear about the dyslexic devil worshiper?    A. He sold his soul to Santa. \n",
      "Joke 7:  There once was a man and a woman that both  got in  a terrible car wreck. Both of their vehicles   were completely destroyed, buy fortunately, no one  was   hurt.  In thankfulness, the woman said to the  man, 'We are both okay, so we should celebrate. I have   a  bottle of wine in my car, let's open it.'          So the woman got the bottleout of the car, and  handed it to the man. The man took a really big drink,  and handed the woman the bottle. The  woman  closed the bottle and put it down. The man  asked,   'Aren't you going to take a drink?'    The woman cleverly replied,   'No, I think I'll  just  wait for the cops to get here.'  \n",
      "Joke 8:   A radio conversation of a US naval  ship with Canadian authorities ...     Americans: Please divert your course 15 degrees to the North to avoid a collision.   Canadians: Recommend you divert YOUR course 15 degrees to the South to  avoid a collision.   Americans: This is the Captain of a US Navy ship.  I say again, divert  YOUR course.   Canadians: No.  I say again, you divert YOUR course.   Americans: This is the aircraft carrier USS LINCOLN, the second largest ship in the United States' Atlantic Fleet. We are accompanied by three destroyers, three cruisers and numerous support vessels. I demand that you change your course 15 degrees north, that's ONE FIVE DEGREES NORTH, or counter-measures will be undertaken to ensure the safety of this ship.   Canadians:  This is a lighthouse.  Your call . \n",
      "Joke 9:  The Pope dies and, naturally, goes to heaven. He's met by the reception committee, and after a whirlwind tour he is told that he can enjoy any of the myriad of recreations available.  He decides that he wants to read all of the ancient original text of the Holy Scriptures, so he spends the next eon or so learning languages. After becoming a linguistic master, he sits down in the library and begins to pour over every version of the Bible, working back from most recent \"Easy Reading\" to the original script.  All of a sudden there is a scream in the library. The Angels come running in only to find the Pope huddled in his chair, crying to himself and muttering, \"An 'R'! The scribes left out the 'R'.\"  A particularly concerned Angel takes him aside, offering comfort, asks him what the problem is and what does he mean.   After collecting his wits, the Pope sobs again, \"It's the letter 'R'. They left out the 'R'. The word was supposed to be CELEBRATE!\" \n",
      "Joke 10:  A Czechoslovakian man felt his eyesight was growing steadily worse, and  felt it was time to go see an optometrist.    The doctor started with some simple testing, and showed him a standard eye  chart with letters of diminishing size: CRKBNWXSKZY. . .    \"Can you read this?\" the doctor asked.    \"Read it?\" the Czech answered.  \"Doc, I know him!\"  \n",
      "Joke 11:  A man arrives at the gates of heaven. St. Peter asks, \"Religion?\"  The man says, \"Methodist.\" St. Peter looks down his list, and says,  \"Go to room 24, but be very quiet as you pass room 8.\"    Another man arrives at the gates of heaven. \"Religion?\" \"Baptist.\" \"Go to room 18, but be very quiet as you pass room 8.\"    A third man arrives at the gates. \"Religion?\" \"Jewish.\" \"Go to room 11, but be very quiet as you pass room 8.\"  The man says, \"I can understand there being different rooms for different religions, but why must I be quiet when I pass room 8?\" St. Peter tells him, \"Well the Catholics are in room 8,  and they think they're the only ones here. \n",
      "Joke 12:  Early one morning a mother went to her sleeping son and woke him up.   \"Wake up, son.  It's time to go to school.\"   \"But why, Mama?  I don't want to go to school.\"   \"Give me two reasons why you don't want to go to school.\"   \"One, all the children hate me. Two, all the teachers hate me,\"   \"Oh! that's no reason. Come on, you have to go to school,\"     \"Give me two good reasons WHY I should go to school?\"     \"One, you are  fifty-two  years old. Two, you are the  principal  of the  school.\"  \n",
      "Joke 13:  One Sunday morning William burst into the living room and said, \"Dad! Mom! I have some great news for you! I am getting married to the most beautiful girl in town. She lives a block away and her name is Susan.\"  After dinner, William's dad took him aside. \"Son, I have to talk with you. Your mother and I have been married 30 years.. She's a wonderful wife but she has never offered much excitement in the bedroom, so I used to fool around with women a lot. Susan is actually your half-sister, and I'm afraid you can't marry her.\"  William was heart-broken. After eight months he eventually started dating girls again. A year later he came home and very proudly announced, \"Dianne said yes! We're getting married in June.\"  Again his father insisted on another private conversation and broke the sad news. \"Dianne is your half-sister too, William. I'm awfully sorry about this.\"  William was furious! He finally decided to go to his mother with the news.  \"Dad has done so much harm.. I guess I'm never going to get married,\"  he complained. \"Every time I fall in love, Dad tells me the girl is my half-sister.\"  His mother just shook her head. \"Don't pay any attention to what he says, dear. He's not really your father.\" \n",
      "Joke 14:  Two atoms are walking down the street when one  atom says to the other  \"Oh, my! I've lost an electron!\"   The second atom says\"Are you sure\"   The first replies  \"I'm positive!\"  \n",
      "Joke 15:  Q.\tWhat's O. J. Simpson's Internet address?   A.\tSlash, slash, backslash, slash, slash, escape. \n",
      "Joke 16:  If pro- is the opposite of con- then congress must be the  opposite  of progress. \n",
      "Joke 17:  A teacher is explaining to her class how different languages use  negatives differently.  She says, \"In all languages, a positive followed by a negative or a negative followed by a positive makes a negative.  In some languages, two negatives together make a positive, while in others they make a negative.  But in no language do two positives make a negative.\"     One of the students puts up his hand and says,  \"Yeah, right.\"  \n",
      "Joke 18:  This guys wife asks, \"Honey if I died would you remarry?\" and he replies, \"Well, after a considerable period of grieving, we all need companionship, I guess I would.\"   She then asks, \"If I died and you remarried, would she live in this house?\" and he replies, \"We've spent a lot of time and money getting this house just the way we want it. I'm not going to get rid of my house, I guess she would.\"   \"If I died and you remarried, and she lived in this house, would she sleep in our bed?\" and he says, \"That bed is brand new, we just paid two thousand dollars for it, it's going to last a long time, I guess she would.\"   So she asks, \"If I died and you remarried, and she lived in this house, and slept in our bed, would she use my golf clubs?\"   \"Oh no, she's left handed.\" \n",
      "Joke 19:  The graduate with a Science degree asks, \"Why does it work?\"  The graduate with an Engineering degree asks, \"How does it work?\"  The graduate with an Accounting degree Asks, \"How much will it cost?\"   The graduate with a  Liberal Arts degree asks, \"Do you want fries  with  that?\" \n",
      "Joke 20:  A mechanical, electrical and a software engineer from Microsoft were driving through the desert when the car broke down. The mechanical engineer said \"It seems to be a problem with the fuel injection system, why don't we pop the hood and I'll take a look at it.\" To which the electrical engineer replied, \"No I think it's just a loose ground wire, I'll get out and take a look.\" Then, the Microsoft engineer jumps in. \"No, no, no. If we just close up all the windows, get out, wait a few minutes, get back in, and then reopen the windows everything will work fine.\" \n"
     ]
    }
   ],
   "source": [
    "user_id = 68388\n",
    "uccf_recommender(user_id, dataframe_non_normalized_ratings, dataframe_jokes, numpy_ratings_non_normalized)"
   ]
  },
  {
   "cell_type": "markdown",
   "metadata": {},
   "source": [
    "## **Normalized**"
   ]
  },
  {
   "cell_type": "code",
   "execution_count": 5,
   "metadata": {},
   "outputs": [
    {
     "data": {
      "text/plain": [
       "user_id                  68388.000000\n",
       "number_of_jokes_rated       72.000000\n",
       "joke_1                       0.030078\n",
       "joke_2                       0.008069\n",
       "joke_3                       0.019886\n",
       "                             ...     \n",
       "joke_96                      0.048160\n",
       "joke_97                      0.047846\n",
       "joke_98                      0.009038\n",
       "joke_99                      0.009221\n",
       "joke_100                     0.015200\n",
       "Name: 68387, Length: 102, dtype: float64"
      ]
     },
     "metadata": {},
     "output_type": "display_data"
    },
    {
     "name": "stdout",
     "output_type": "stream",
     "text": [
      "Recommending Jokes for user 68388.0\n",
      "Joke 1:  A woman has twins, and gives them up for adoption.  One of them goes to a family in Egypt and is named \"Amal.\"  The other goes to a  family in Spain; they name him \"Juan.\"  Years later, Juan sends a picture of himself to his mom.  Upon receiving the picture, she tells her husband that she wishes she also had a picture of Amal.    Her husband responds, \"But they are twins-if you've seen Juan, you've seen   Amal. \n",
      "Joke 2:  A neutron walks into a bar and orders a drink. \"How much do I owe you?\" the neutron asks.   The bartender replies,  \"for you, no charge.\"  \n",
      "Joke 3:  A man piloting a hot air balloon discovers he has wandered off course and is hopelessly lost. He descends to a lower altitude and locates a man down on the ground. He lowers the balloon further and shouts \"Excuse me, can you tell me where I am?\"   The man below says: \"Yes, you're in a hot air balloon, about 30 feet above this field.\"   \"You must work in Information Technology,\" says the balloonist.   \"Yes I do,\" replies the man. \"And how did you know that?\"   \"Well,\" says the balloonist, \"what you told me is technically correct, but of no use to anyone.\"   The man below says, \"You must work in management.\"   \"I do,\" replies the balloonist, \"how did you know?\"   \"Well,\" says the man, \"you don't know where you are, or where you're going, but you expect my immediate help. You're in the same position you were before we met, but now it's my fault!\"   \n",
      "Joke 4:  A group of  managers were given the assignment to measure the height of a flagpole. So they go out to the flagpole with ladders and tape measures, and they're falling off the ladders, dropping the tape measures - the whole thing is just a mess. An engineer comes along and sees what they're trying to do, walks over, pulls the flagpole out of the ground, lays it flat, measures it from end to end, gives the measurement to one of the managers and walks away.  After the engineer has gone, one manager turns to another and laughs. \"Isn't that just like an engineer, we're looking for the  height and he gives us the length.\" \n",
      "Joke 5:  An old Scotsmen is sitting with a younger Scottish gentleman and says the boy.  \"Ah, lad look out that window. You see that stone wall there, I built it with me own bare hands, placed every stone meself.  But do they call me MacGregor the wall builder? No!    He Takes a few sips of his beer then says, \"Aye, and look out on that lake and  eye that beautiful pier. I built it meself, laid every board and hammered each nail but do they call me MacGregor the pier builder? No!    He continues...\"And lad, you see that road? That too I build with me own bare  hands. Laid every inch of pavement meself, but do they call MacGregor the road builder? No!\"  Again he returns to his beer for a few sips, then says,  \"Agh, but you screw one sheep...\" \n",
      "Joke 6:  Q. Did you hear about the dyslexic devil worshiper?    A. He sold his soul to Santa. \n",
      "Joke 7:   A radio conversation of a US naval  ship with Canadian authorities ...     Americans: Please divert your course 15 degrees to the North to avoid a collision.   Canadians: Recommend you divert YOUR course 15 degrees to the South to  avoid a collision.   Americans: This is the Captain of a US Navy ship.  I say again, divert  YOUR course.   Canadians: No.  I say again, you divert YOUR course.   Americans: This is the aircraft carrier USS LINCOLN, the second largest ship in the United States' Atlantic Fleet. We are accompanied by three destroyers, three cruisers and numerous support vessels. I demand that you change your course 15 degrees north, that's ONE FIVE DEGREES NORTH, or counter-measures will be undertaken to ensure the safety of this ship.   Canadians:  This is a lighthouse.  Your call . \n",
      "Joke 8:  A man arrives at the gates of heaven. St. Peter asks, \"Religion?\"  The man says, \"Methodist.\" St. Peter looks down his list, and says,  \"Go to room 24, but be very quiet as you pass room 8.\"    Another man arrives at the gates of heaven. \"Religion?\" \"Baptist.\" \"Go to room 18, but be very quiet as you pass room 8.\"    A third man arrives at the gates. \"Religion?\" \"Jewish.\" \"Go to room 11, but be very quiet as you pass room 8.\"  The man says, \"I can understand there being different rooms for different religions, but why must I be quiet when I pass room 8?\" St. Peter tells him, \"Well the Catholics are in room 8,  and they think they're the only ones here. \n",
      "Joke 9:  One Sunday morning William burst into the living room and said, \"Dad! Mom! I have some great news for you! I am getting married to the most beautiful girl in town. She lives a block away and her name is Susan.\"  After dinner, William's dad took him aside. \"Son, I have to talk with you. Your mother and I have been married 30 years.. She's a wonderful wife but she has never offered much excitement in the bedroom, so I used to fool around with women a lot. Susan is actually your half-sister, and I'm afraid you can't marry her.\"  William was heart-broken. After eight months he eventually started dating girls again. A year later he came home and very proudly announced, \"Dianne said yes! We're getting married in June.\"  Again his father insisted on another private conversation and broke the sad news. \"Dianne is your half-sister too, William. I'm awfully sorry about this.\"  William was furious! He finally decided to go to his mother with the news.  \"Dad has done so much harm.. I guess I'm never going to get married,\"  he complained. \"Every time I fall in love, Dad tells me the girl is my half-sister.\"  His mother just shook her head. \"Don't pay any attention to what he says, dear. He's not really your father.\" \n",
      "Joke 10:  Q.\tWhat's O. J. Simpson's Internet address?   A.\tSlash, slash, backslash, slash, slash, escape. \n",
      "Joke 11:  How many feminists does it take to screw in a light bulb?  That's not funny. \n",
      "Joke 12:  What's the difference between a MacIntosh and an Etch-A-Sketch?    You don't have to shake the Mac to clear the screen.  \n",
      "Joke 13:  Q: If a person who speaks three languages is called \"tri-lingual,\" and a person who speaks two languages is called \"bi-lingual,\" what do call a person who only speaks one language?   A: American!  \n",
      "Joke 14:  The Pope dies and, naturally, goes to heaven. He's met by the reception committee, and after a whirlwind tour he is told that he can enjoy any of the myriad of recreations available.  He decides that he wants to read all of the ancient original text of the Holy Scriptures, so he spends the next eon or so learning languages. After becoming a linguistic master, he sits down in the library and begins to pour over every version of the Bible, working back from most recent \"Easy Reading\" to the original script.  All of a sudden there is a scream in the library. The Angels come running in only to find the Pope huddled in his chair, crying to himself and muttering, \"An 'R'! The scribes left out the 'R'.\"  A particularly concerned Angel takes him aside, offering comfort, asks him what the problem is and what does he mean.   After collecting his wits, the Pope sobs again, \"It's the letter 'R'. They left out the 'R'. The word was supposed to be CELEBRATE!\" \n",
      "Joke 15:  Reaching the end of a job interview, the human resources person asked a young engineer fresh out of Stanford,   \"And what starting salary were you looking for?\"   The engineer said, \"In the neighborhood of $125,000 a year, depending on the benefits package.\"   The interviewer said, \"Well, what would you say to a package of 5-weeks  vacation, 14 paid holidays, full medical and dental, company matching  retirement fund to 50% of salary, and a company car leased every 2 years -  say, a red Corvette?\"   The Engineer sat up straight and said, \"Wow! Are you  kidding ?\"   And the interviewer replied,  \"Yeah, but you started it.\"  \n",
      "Joke 16:  On the first day of college, the Dean addressed the students, pointing out some of the rules:  \"The female dormitory will be out-of-bounds for all male students and the male dormitory to the female students. Anybody caught breaking this rule will be finded $20 the first time.\" He continued, \"Anybody  caught breaking this rule the second time will be fined $60. Being caught a third time will cost you a fine of $180. Are there any questions ?\"   At this point, a male student in the crowd inquired:  \"How much for a season pass ?\"  \n",
      "Joke 17:  There was an engineer who had an exceptional gift for fixing all  things mechanical.  After serving his company loyally for over 30  years, he happily retired.  Several years later the company contacted  him regarding a seemingly impossible problem they were having with  one of their multi-million dollar machines. They had tried everything and  everyone else to get the machine fixed, but to no avail.  In  desperation, they called on the retired engineer who had solved so  many of their problems in the past.  The engineer reluctantly took the challenge.  He spent a day studying  the huge machine.  At the end of the day, he marked a small \"x\" in  chalk on a particular component of the machine and proudly stated,   \"This is where your problem is\".  The part was replaced and the machine worked perfectly again. The  company received a bill for $50,000 from the engineer for his  service.They demanded an itemized accounting of his charges. The  engineer responded briefly:  One chalk mark                       $1   Knowing where to put it            $49,999  It was paid in full and the engineer retired again in peace.  \n",
      "Joke 18:  Early one morning a mother went to her sleeping son and woke him up.   \"Wake up, son.  It's time to go to school.\"   \"But why, Mama?  I don't want to go to school.\"   \"Give me two reasons why you don't want to go to school.\"   \"One, all the children hate me. Two, all the teachers hate me,\"   \"Oh! that's no reason. Come on, you have to go to school,\"     \"Give me two good reasons WHY I should go to school?\"     \"One, you are  fifty-two  years old. Two, you are the  principal  of the  school.\"  \n",
      "Joke 19:  A man and Cindy Crawford get stranded on a desert island.  After a couple of days they fall in love and start sleeping together.  Time pass the man seems frustrated, Cindy asks if there is anything she can do?  He says there is one thing, \"Could you put on this baseball cap and go to the other side of the island and answer me when I call you Bob?\"  She agrees.  Next day he is walking on the other side of the island, runs into her and says \"Hi Bob!\"    She says \"Hello, what's up?\"    He replies: \"Bob you won't believe it: I've been sleeping with Cindy Crawford for the past two weeks!!!!\" \n",
      "Joke 20:  A mechanical, electrical and a software engineer from Microsoft were driving through the desert when the car broke down. The mechanical engineer said \"It seems to be a problem with the fuel injection system, why don't we pop the hood and I'll take a look at it.\" To which the electrical engineer replied, \"No I think it's just a loose ground wire, I'll get out and take a look.\" Then, the Microsoft engineer jumps in. \"No, no, no. If we just close up all the windows, get out, wait a few minutes, get back in, and then reopen the windows everything will work fine.\" \n"
     ]
    }
   ],
   "source": [
    "uccf_recommender(user_id, dataframe_normalized_ratings, dataframe_jokes, numpy_ratings_normalized)"
   ]
  },
  {
   "cell_type": "markdown",
   "metadata": {},
   "source": [
    "## **Evaluation**"
   ]
  },
  {
   "cell_type": "code",
   "execution_count": null,
   "metadata": {},
   "outputs": [],
   "source": []
  }
 ],
 "metadata": {
  "kernelspec": {
   "display_name": "Python 3",
   "language": "python",
   "name": "python3"
  },
  "language_info": {
   "codemirror_mode": {
    "name": "ipython",
    "version": 3
   },
   "file_extension": ".py",
   "mimetype": "text/x-python",
   "name": "python",
   "nbconvert_exporter": "python",
   "pygments_lexer": "ipython3",
   "version": "3.10.1"
  }
 },
 "nbformat": 4,
 "nbformat_minor": 2
}
