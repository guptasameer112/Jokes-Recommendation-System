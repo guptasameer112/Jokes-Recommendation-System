{
 "cells": [
  {
   "cell_type": "markdown",
   "metadata": {},
   "source": [
    "# **Content Based Collaborative Filtering**"
   ]
  },
  {
   "cell_type": "code",
   "execution_count": 13,
   "metadata": {},
   "outputs": [],
   "source": [
    "import pandas as pd\n",
    "import numpy as np"
   ]
  },
  {
   "cell_type": "code",
   "execution_count": 14,
   "metadata": {},
   "outputs": [],
   "source": [
    "dataframe_ratings = pd.read_csv('Preprocessed/normalized_ratings.csv')\n",
    "LDA_dataframe_jokes = pd.read_csv('Preprocessed/LDA_dataframe_jokes.csv')"
   ]
  },
  {
   "cell_type": "markdown",
   "metadata": {},
   "source": [
    "## **Functions**"
   ]
  },
  {
   "cell_type": "code",
   "execution_count": 15,
   "metadata": {},
   "outputs": [],
   "source": [
    "def get_intrested_jokes(user_id,df,jokes_df,no_jokes,interest_threshold,joke_matpic):\n",
    "    \"\"\"\n",
    "    Finds the top \"no_jokes\" intrested jokes for active user\n",
    "\n",
    "    Args:\n",
    "        user_id (int): id of active user\n",
    "        df (pd.Dataframe): Dataframe of joke_ratings for all users(normalized)\n",
    "        jokes_df (pd.DataFrame): Dataframe of jokes after cleaning\n",
    "        no_jokes (int): no of jokes\n",
    "        interest_threshold (float b/w -1 to 1): rating threshold of intrest\n",
    "        joke_matpic (pd.DataFrame): Dataframe of joke main topics\n",
    "\n",
    "    Returns:\n",
    "        list<int>: list of joke ids of the top \"no_jokes\" intrested jokes for active user\n",
    "    \"\"\"\n",
    "    user_rating=df.loc[user_id-1]\n",
    "    # generation of intrested topics of jokes for the user\n",
    "    interested_topics=set([joke_matpic.loc[column] for column in range(100) if(user_rating['joke_'+str(column+1)]>=interest_threshold)])\n",
    "    \n",
    "    # finding new jokes for recommending\n",
    "    new_jokes=[] # intrested and unrated\n",
    "    old_jokes=[] # intrested and rated\n",
    "    other_jokes=[] # unintrested and unrated\n",
    "    worst_jokes=[] # unintrested and rated\n",
    "    for i in range(100):\n",
    "        if jokes_df['main_topic'][i] in interested_topics:\n",
    "            if user_rating[i+2] !=user_rating[i+2]:\n",
    "                new_jokes.append(i)\n",
    "            else:\n",
    "                old_jokes.append(i)\n",
    "        elif user_rating[i+2] !=user_rating[i+2]:\n",
    "            other_jokes.append(i)\n",
    "        else:\n",
    "            worst_jokes.append(i)\n",
    "            \n",
    "    #add new_jokes if needed\n",
    "    if(len(new_jokes)<no_jokes):\n",
    "        new_jokes+=old_jokes\n",
    "        if(len(new_jokes)<no_jokes):\n",
    "            if(no_jokes-len(new_jokes)>len(other_jokes)):\n",
    "                new_jokes+=other_jokes\n",
    "                new_jokes+=(sorted(worst_jokes,key=(lambda x: user_rating[x+2]))[::-1])[:no_jokes-len(new_jokes)]\n",
    "            else:\n",
    "                for i in np.random.choice(len(other_jokes),no_jokes-len(new_jokes),replace=False):\n",
    "                    new_jokes.append(other_jokes[i])\n",
    "                \n",
    "    \n",
    "    # choose randomly \"no_jokes\" no of jokes\n",
    "    for i in np.random.choice(len(new_jokes), no_jokes, replace=False):\n",
    "        new_jokes.append(new_jokes[i])\n",
    "    return new_jokes[(-1*no_jokes):]\n",
    "            \n",
    "def recommend_cbf(user_id,df,jokes_df):\n",
    "    \"\"\"\n",
    "    Recommends jokes based on cbf approach for given user\n",
    "    \n",
    "    Args:\n",
    "        user_id (int): id of active user\n",
    "        df (pd.Dataframe): Dataframe of joke_ratings for all users(normalized)\n",
    "        jokes_df (pd.DataFrame): Dataframe of jokes after cleaning\n",
    "    Returns:\n",
    "        None\n",
    "    \"\"\"\n",
    "    no_jokes=20 # no of jokes to recommend\n",
    "    interest_threshold=0.8 # threshold for chossing rating of interest\n",
    "    joke_matpic=jokes_df['main_topic'] # main topics of joke for finding interested topics of user \n",
    "    new_jokes=get_intrested_jokes(user_id,df,jokes_df,no_jokes,interest_threshold,joke_matpic)\n",
    "    \n",
    "    print(\"Recommending Jokes for user {}\".format(user_id))\n",
    "    for i,k in zip(range(no_jokes),new_jokes):\n",
    "        print(\"Joke {}: {}\".format(i+1,jokes_df['joke'][k]))"
   ]
  },
  {
   "cell_type": "markdown",
   "metadata": {},
   "source": [
    "## **Results**"
   ]
  },
  {
   "cell_type": "code",
   "execution_count": 18,
   "metadata": {},
   "outputs": [
    {
     "name": "stdout",
     "output_type": "stream",
     "text": [
      "Recommending Jokes for user 68388\n",
      "Joke 1:  A woman has twins, and gives them up for adoption.  One of them goes to a family in Egypt and is named \"Amal.\"  The other goes to a  family in Spain; they name him \"Juan.\"  Years later, Juan sends a picture of himself to his mom.  Upon receiving the picture, she tells her husband that she wishes she also had a picture of Amal.    Her husband responds, \"But they are twins-if you've seen Juan, you've seen   Amal. \n",
      "Joke 2:   A radio conversation of a US naval  ship with Canadian authorities ...     Americans: Please divert your course 15 degrees to the North to avoid a collision.   Canadians: Recommend you divert YOUR course 15 degrees to the South to  avoid a collision.   Americans: This is the Captain of a US Navy ship.  I say again, divert  YOUR course.   Canadians: No.  I say again, you divert YOUR course.   Americans: This is the aircraft carrier USS LINCOLN, the second largest ship in the United States' Atlantic Fleet. We are accompanied by three destroyers, three cruisers and numerous support vessels. I demand that you change your course 15 degrees north, that's ONE FIVE DEGREES NORTH, or counter-measures will be undertaken to ensure the safety of this ship.   Canadians:  This is a lighthouse.  Your call . \n",
      "Joke 3:  One Sunday morning William burst into the living room and said, \"Dad! Mom! I have some great news for you! I am getting married to the most beautiful girl in town. She lives a block away and her name is Susan.\"  After dinner, William's dad took him aside. \"Son, I have to talk with you. Your mother and I have been married 30 years.. She's a wonderful wife but she has never offered much excitement in the bedroom, so I used to fool around with women a lot. Susan is actually your half-sister, and I'm afraid you can't marry her.\"  William was heart-broken. After eight months he eventually started dating girls again. A year later he came home and very proudly announced, \"Dianne said yes! We're getting married in June.\"  Again his father insisted on another private conversation and broke the sad news. \"Dianne is your half-sister too, William. I'm awfully sorry about this.\"  William was furious! He finally decided to go to his mother with the news.  \"Dad has done so much harm.. I guess I'm never going to get married,\"  he complained. \"Every time I fall in love, Dad tells me the girl is my half-sister.\"  His mother just shook her head. \"Don't pay any attention to what he says, dear. He's not really your father.\" \n",
      "Joke 4:  How many feminists does it take to screw in a light bulb?  That's not funny. \n",
      "Joke 5:  Q.\tWhat's O. J. Simpson's Internet address?   A.\tSlash, slash, backslash, slash, slash, escape. \n",
      "Joke 6:  A man arrives at the gates of heaven. St. Peter asks, \"Religion?\"  The man says, \"Methodist.\" St. Peter looks down his list, and says,  \"Go to room 24, but be very quiet as you pass room 8.\"    Another man arrives at the gates of heaven. \"Religion?\" \"Baptist.\" \"Go to room 18, but be very quiet as you pass room 8.\"    A third man arrives at the gates. \"Religion?\" \"Jewish.\" \"Go to room 11, but be very quiet as you pass room 8.\"  The man says, \"I can understand there being different rooms for different religions, but why must I be quiet when I pass room 8?\" St. Peter tells him, \"Well the Catholics are in room 8,  and they think they're the only ones here. \n",
      "Joke 7:  Two attorneys went into a diner and ordered two drinks.  Then they produced  sandwiches from their briefcases and started to eat.  The owner became quite concerned and marched over and told them,  \"You can't eat your own sandwiches in here!\"    The attorneys looked at each other, shrugged their shoulders and then  exchanged  sandwiches. \n",
      "Joke 8:  A group of  managers were given the assignment to measure the height of a flagpole. So they go out to the flagpole with ladders and tape measures, and they're falling off the ladders, dropping the tape measures - the whole thing is just a mess. An engineer comes along and sees what they're trying to do, walks over, pulls the flagpole out of the ground, lays it flat, measures it from end to end, gives the measurement to one of the managers and walks away.  After the engineer has gone, one manager turns to another and laughs. \"Isn't that just like an engineer, we're looking for the  height and he gives us the length.\" \n",
      "Joke 9:  A bus station is where a bus stops.  A train station is where a train stops.   On  my  desk I have a  work station...  \n",
      "Joke 10:  Two atoms are walking down the street when one  atom says to the other  \"Oh, my! I've lost an electron!\"   The second atom says\"Are you sure\"   The first replies  \"I'm positive!\"  \n",
      "Joke 11:  A man piloting a hot air balloon discovers he has wandered off course and is hopelessly lost. He descends to a lower altitude and locates a man down on the ground. He lowers the balloon further and shouts \"Excuse me, can you tell me where I am?\"   The man below says: \"Yes, you're in a hot air balloon, about 30 feet above this field.\"   \"You must work in Information Technology,\" says the balloonist.   \"Yes I do,\" replies the man. \"And how did you know that?\"   \"Well,\" says the balloonist, \"what you told me is technically correct, but of no use to anyone.\"   The man below says, \"You must work in management.\"   \"I do,\" replies the balloonist, \"how did you know?\"   \"Well,\" says the man, \"you don't know where you are, or where you're going, but you expect my immediate help. You're in the same position you were before we met, but now it's my fault!\"   \n",
      "Joke 12:  Age and Womanhood   1. Between the ages of 13 and 18 ...  &nbsp;&nbsp;&nbsp;&nbsp; She is like Africa, virgin and unexplored.     2. Between the ages of 19 and 35 ...  &nbsp;&nbsp;&nbsp;&nbsp; She is like Asia, hot and exotic.     3. Between the ages of 36 and 45 ...  &nbsp;&nbsp;&nbsp;&nbsp; She is like America, fully explored, breathtakingly beautiful,and free with her resources.    4. Between the ages of 46 and 56 ...  &nbsp;&nbsp;&nbsp;&nbsp; She is like Europe, exhausted but still has points of interest.     5. After 56 she is like Australia ...  &nbsp;&nbsp;&nbsp;&nbsp; Everybody knows it's down there, but who gives a damn?  \n",
      "Joke 13:  A neutron walks into a bar and orders a drink. \"How much do I owe you?\" the neutron asks.   The bartender replies,  \"for you, no charge.\"  \n",
      "Joke 14:  Q: If a person who speaks three languages is called \"tri-lingual,\" and a person who speaks two languages is called \"bi-lingual,\" what do call a person who only speaks one language?   A: American!  \n",
      "Joke 15:  A teacher is explaining to her class how different languages use  negatives differently.  She says, \"In all languages, a positive followed by a negative or a negative followed by a positive makes a negative.  In some languages, two negatives together make a positive, while in others they make a negative.  But in no language do two positives make a negative.\"     One of the students puts up his hand and says,  \"Yeah, right.\"  \n",
      "Joke 16:  What's the difference between a MacIntosh and an Etch-A-Sketch?    You don't have to shake the Mac to clear the screen.  \n",
      "Joke 17:  Q. Did you hear about the dyslexic devil worshiper?    A. He sold his soul to Santa. \n",
      "Joke 18:  Just a thought ..   Before criticizing someone, walk a mile in their shoes.     Then when you do criticize them,   you will be a mile away and have their shoes !  \n",
      "Joke 19:  An old Scotsmen is sitting with a younger Scottish gentleman and says the boy.  \"Ah, lad look out that window. You see that stone wall there, I built it with me own bare hands, placed every stone meself.  But do they call me MacGregor the wall builder? No!    He Takes a few sips of his beer then says, \"Aye, and look out on that lake and  eye that beautiful pier. I built it meself, laid every board and hammered each nail but do they call me MacGregor the pier builder? No!    He continues...\"And lad, you see that road? That too I build with me own bare  hands. Laid every inch of pavement meself, but do they call MacGregor the road builder? No!\"  Again he returns to his beer for a few sips, then says,  \"Agh, but you screw one sheep...\" \n",
      "Joke 20:  Q: Whats the difference between greeting a Queen and greeting the President of the United  States?   A: You only have to get on  one knee  to greet the queen. \n"
     ]
    }
   ],
   "source": [
    "user_id = 68388\n",
    "recommend_cbf(user_id,dataframe_ratings,LDA_dataframe_jokes)"
   ]
  },
  {
   "cell_type": "markdown",
   "metadata": {},
   "source": [
    "## **Evaluation**"
   ]
  },
  {
   "cell_type": "code",
   "execution_count": null,
   "metadata": {},
   "outputs": [],
   "source": []
  }
 ],
 "metadata": {
  "kernelspec": {
   "display_name": "Python 3",
   "language": "python",
   "name": "python3"
  },
  "language_info": {
   "codemirror_mode": {
    "name": "ipython",
    "version": 3
   },
   "file_extension": ".py",
   "mimetype": "text/x-python",
   "name": "python",
   "nbconvert_exporter": "python",
   "pygments_lexer": "ipython3",
   "version": "3.10.1"
  }
 },
 "nbformat": 4,
 "nbformat_minor": 2
}
