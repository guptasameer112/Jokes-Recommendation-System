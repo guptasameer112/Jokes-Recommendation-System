{
 "cells": [
  {
   "cell_type": "markdown",
   "metadata": {},
   "source": [
    "# **Content Based Collaborative Filtering**"
   ]
  },
  {
   "cell_type": "code",
   "execution_count": 1,
   "metadata": {},
   "outputs": [],
   "source": [
    "import pandas as pd\n",
    "import numpy as np"
   ]
  },
  {
   "cell_type": "code",
   "execution_count": 2,
   "metadata": {},
   "outputs": [],
   "source": [
    "dataframe_robust_ratings = pd.read_csv('Preprocessed/robust_scaled_ratings.csv')\n",
    "LDA_dataframe_jokes = pd.read_csv('Preprocessed/LDA_dataframe_jokes.csv')"
   ]
  },
  {
   "cell_type": "markdown",
   "metadata": {},
   "source": [
    "## **Functions**"
   ]
  },
  {
   "cell_type": "code",
   "execution_count": 3,
   "metadata": {},
   "outputs": [],
   "source": [
    "def get_intrested_jokes(user_id,df,jokes_df,no_jokes,interest_threshold,joke_matpic):\n",
    "    \"\"\"\n",
    "    Finds the top \"no_jokes\" intrested jokes for active user\n",
    "\n",
    "    Args:\n",
    "        user_id (int): id of active user\n",
    "        df (pd.Dataframe): Dataframe of joke_ratings for all users(normalized)\n",
    "        jokes_df (pd.DataFrame): Dataframe of jokes after cleaning\n",
    "        no_jokes (int): no of jokes\n",
    "        interest_threshold (float b/w -1 to 1): rating threshold of intrest\n",
    "        joke_matpic (pd.DataFrame): Dataframe of joke main topics\n",
    "\n",
    "    Returns:\n",
    "        list<int>: list of joke ids of the top \"no_jokes\" intrested jokes for active user\n",
    "    \"\"\"\n",
    "    user_rating=df.loc[user_id-1]\n",
    "    # generation of intrested topics of jokes for the user\n",
    "    interested_topics=set([joke_matpic.loc[column-2] for column in df.columns[2:102] if(user_rating[column]<interest_threshold)])\n",
    "    \n",
    "    # finding new jokes for recommending\n",
    "    new_jokes=[] # intrested and unrated\n",
    "    old_jokes=[] # intrested and rated\n",
    "    other_jokes=[] # unintrested and unrated\n",
    "    worst_jokes=[] # unintrested and rated\n",
    "    for i in range(100):\n",
    "        if jokes_df['main_topic'][i] in interested_topics:\n",
    "            if user_rating[i+2] !=user_rating[i+2]:\n",
    "                new_jokes.append(i)\n",
    "            else:\n",
    "                old_jokes.append(i)\n",
    "        elif user_rating[i+2] !=user_rating[i+2]:\n",
    "            other_jokes.append(i)\n",
    "        else:\n",
    "            worst_jokes.append(i)\n",
    "            \n",
    "    #add new_jokes if needed\n",
    "    if(len(new_jokes)<no_jokes):\n",
    "        new_jokes+=old_jokes\n",
    "        if(len(new_jokes)<no_jokes):\n",
    "            if(no_jokes-len(new_jokes)>len(other_jokes)):\n",
    "                new_jokes+=other_jokes\n",
    "                new_jokes+=(sorted(worst_jokes,key=(lambda x: user_rating[x+2]))[::-1])[:no_jokes-len(new_jokes)]\n",
    "            else:\n",
    "                for i in np.random.choice(len(other_jokes),no_jokes-len(new_jokes),replace=False):\n",
    "                    new_jokes.append(other_jokes[i])\n",
    "                \n",
    "    \n",
    "    # choose randomly \"no_jokes\" no of jokes\n",
    "    for i in np.random.choice(len(new_jokes), no_jokes, replace=False):\n",
    "        new_jokes.append(new_jokes[i])\n",
    "    return new_jokes[(-1*no_jokes):]\n",
    "            \n",
    "def recommend_cbf(user_id,df,jokes_df):\n",
    "    \"\"\"\n",
    "    Recommends jokes based on cbf approach for given user\n",
    "    \n",
    "    Args:\n",
    "        user_id (int): id of active user\n",
    "        df (pd.Dataframe): Dataframe of joke_ratings for all users(normalized)\n",
    "        jokes_df (pd.DataFrame): Dataframe of jokes after cleaning\n",
    "    Returns:\n",
    "        None\n",
    "    \"\"\"\n",
    "    no_jokes=20 # no of jokes to recommend\n",
    "    interest_threshold=0.8 # threshold for chossing rating of interest\n",
    "    joke_matpic=jokes_df['main_topic'] # main topics of joke for finding interested topics of user \n",
    "    new_jokes=get_intrested_jokes(user_id,df,jokes_df,no_jokes,interest_threshold,joke_matpic)\n",
    "    \n",
    "    print(\"Recommending Jokes for user {}\".format(user_id))\n",
    "    for i,k in zip(range(no_jokes),new_jokes):\n",
    "        print(\"Joke {}: {}\".format(i+1,jokes_df['joke'][k]))"
   ]
  },
  {
   "cell_type": "markdown",
   "metadata": {},
   "source": [
    "## **Results**"
   ]
  },
  {
   "cell_type": "code",
   "execution_count": 11,
   "metadata": {},
   "outputs": [
    {
     "name": "stdout",
     "output_type": "stream",
     "text": [
      "Recommending Jokes for user 68388\n",
      "Joke 1:  How many Irishmen does it take to change a lightbulb?   Two, one to hold the lightbulb and the other to drink until the room spins.  \n",
      "Joke 2:  Just a thought ..   Before criticizing someone, walk a mile in their shoes.     Then when you do criticize them,   you will be a mile away and have their shoes !  \n",
      "Joke 3:  Two Rednecks were seated at the end of a bar when a young lady seated a few stools up began to choke on a piece of hamburger.  She was turning blue and obviously in serious respiratory distress. One said to the other, \"That gal there is having a bad time!\"  The other agreed and said \"Think we should go help?\"  \"You bet,\" said the first,and with that, he ran over and said, \"Can you breathe??\"  She shook her head no.  He said, \"Can you speak??\"  She again shook her head no. With that, he pulled up her skirt and licked her on the butt.  She was so shocked, she coughed up the obstruction and began to breathe-with great relief.  The redneck walked back to his friend and said, \"Funny how that hind lick maneuver always works.\" \n",
      "Joke 4:  A man arrives at the gates of heaven. St. Peter asks, \"Religion?\"  The man says, \"Methodist.\" St. Peter looks down his list, and says,  \"Go to room 24, but be very quiet as you pass room 8.\"    Another man arrives at the gates of heaven. \"Religion?\" \"Baptist.\" \"Go to room 18, but be very quiet as you pass room 8.\"    A third man arrives at the gates. \"Religion?\" \"Jewish.\" \"Go to room 11, but be very quiet as you pass room 8.\"  The man says, \"I can understand there being different rooms for different religions, but why must I be quiet when I pass room 8?\" St. Peter tells him, \"Well the Catholics are in room 8,  and they think they're the only ones here. \n",
      "Joke 5:   President Clinton looks up from his desk in the Oval Office to see  one of his aides nervously approach him.     \"What is it?\" exclaims the President.    \"It's this Abortion Bill Mr. President, what do you want to do  about it?\" the aide replies.    \"Just go ahead and pay it.\" responds the President.  \n",
      "Joke 6:  Clinton returns from a vacation in Arkansas and walks down  the steps of Air Force One with two pigs under his arms.  At the bottom of the steps, he says  to the honor guardsman, \"These are genuine Arkansas Razor-Back Hogs.  I got this one for Chelsea and this one for Hillary.\"     The guardsman replies, \"Nice trade, Sir.\" \n",
      "Joke 7:  A group of  managers were given the assignment to measure the height of a flagpole. So they go out to the flagpole with ladders and tape measures, and they're falling off the ladders, dropping the tape measures - the whole thing is just a mess. An engineer comes along and sees what they're trying to do, walks over, pulls the flagpole out of the ground, lays it flat, measures it from end to end, gives the measurement to one of the managers and walks away.  After the engineer has gone, one manager turns to another and laughs. \"Isn't that just like an engineer, we're looking for the  height and he gives us the length.\" \n",
      "Joke 8:  What did the Buddhist say to the hot dog vendor?  Make me one with everything. \n",
      "Joke 9:  There once was a man and a woman that both  got in  a terrible car wreck. Both of their vehicles   were completely destroyed, buy fortunately, no one  was   hurt.  In thankfulness, the woman said to the  man, 'We are both okay, so we should celebrate. I have   a  bottle of wine in my car, let's open it.'          So the woman got the bottleout of the car, and  handed it to the man. The man took a really big drink,  and handed the woman the bottle. The  woman  closed the bottle and put it down. The man  asked,   'Aren't you going to take a drink?'    The woman cleverly replied,   'No, I think I'll  just  wait for the cops to get here.'  \n",
      "Joke 10:   A horse walks into a bar. Bartender says:  \"So, why the long face?\" \n",
      "Joke 11:  Q: How do you keep a computer programmer in the  shower all day long?   A: Give them a shampoo with a label that says  \"rinse, lather, repeat\" . \n",
      "Joke 12:  A mechanical, electrical and a software engineer from Microsoft were driving through the desert when the car broke down. The mechanical engineer said \"It seems to be a problem with the fuel injection system, why don't we pop the hood and I'll take a look at it.\" To which the electrical engineer replied, \"No I think it's just a loose ground wire, I'll get out and take a look.\" Then, the Microsoft engineer jumps in. \"No, no, no. If we just close up all the windows, get out, wait a few minutes, get back in, and then reopen the windows everything will work fine.\" \n",
      "Joke 13:  Q: How many programmers does it take to change a lightbulb?   A:  NONE!   That's a hardware problem....  \n",
      "Joke 14:  Bill & Hillary are on a trip back to Arkansas. They're almost out of gas, so Bill pulls into a service station on the outskirts of town. The attendant runs out of the station to serve them when Hillary realizes it's an old boyfriend from high school. She and the attendant chat as he gases up their car and cleans the windows. Then they all say good-bye.    As Bill pulls the car onto the road, he turns to Hillary and says, 'Now aren't you glad you married me and not him ? You could've been the wife of a grease monkey !'    To which Hillary replied, 'No, Bill. If I would have married him, you'd be pumping gas and he would be the President !'  \n",
      "Joke 15:  How many men does it take to screw in a light bulb?    One...men will screw anything.  \n",
      "Joke 16:  A woman has twins, and gives them up for adoption.  One of them goes to a family in Egypt and is named \"Amal.\"  The other goes to a  family in Spain; they name him \"Juan.\"  Years later, Juan sends a picture of himself to his mom.  Upon receiving the picture, she tells her husband that she wishes she also had a picture of Amal.    Her husband responds, \"But they are twins-if you've seen Juan, you've seen   Amal. \n",
      "Joke 17:  Q: What is the Australian word for a boomerang that won't    come back?    A: A stick \n",
      "Joke 18:  What is the difference between men and women:     A woman wants one man to satisfy her every need.  A man wants every woman to satisfy his one need. \n",
      "Joke 19:   A couple has been married for 75 years. For the husband's 95th birthday, his wife decides to surprise him by hiring a prostitute. That day, the doorbell rings. The husband uses his walker to get to the door and opens it.   A 21-year-old in a latex outfit smiles and says, \"Hi, I here to give you super sex!\"   The old man says, \"I'll take the soup.\" \n",
      "Joke 20:  Q. Did you hear about the dyslexic devil worshiper?    A. He sold his soul to Santa. \n"
     ]
    }
   ],
   "source": [
    "user_id = 68388\n",
    "recommend_cbf(user_id,dataframe_robust_ratings,LDA_dataframe_jokes)"
   ]
  },
  {
   "cell_type": "markdown",
   "metadata": {},
   "source": [
    "## **Evaluation**"
   ]
  },
  {
   "cell_type": "code",
   "execution_count": null,
   "metadata": {},
   "outputs": [],
   "source": []
  }
 ],
 "metadata": {
  "kernelspec": {
   "display_name": "Python 3",
   "language": "python",
   "name": "python3"
  },
  "language_info": {
   "codemirror_mode": {
    "name": "ipython",
    "version": 3
   },
   "file_extension": ".py",
   "mimetype": "text/x-python",
   "name": "python",
   "nbconvert_exporter": "python",
   "pygments_lexer": "ipython3",
   "version": "3.10.1"
  }
 },
 "nbformat": 4,
 "nbformat_minor": 2
}
