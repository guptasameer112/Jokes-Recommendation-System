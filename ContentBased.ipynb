{
 "cells": [
  {
   "cell_type": "markdown",
   "metadata": {},
   "source": [
    "# **Content Based Collaborative Filtering**"
   ]
  },
  {
   "cell_type": "code",
   "execution_count": 1,
   "metadata": {},
   "outputs": [],
   "source": [
    "import pandas as pd\n",
    "import numpy as np"
   ]
  },
  {
   "cell_type": "code",
   "execution_count": 3,
   "metadata": {},
   "outputs": [],
   "source": [
    "dataframe_robust_ratings = pd.read_csv('Preprocessed/robust_scaled_ratings.csv')\n",
    "LDA_dataframe_jokes = pd.read_csv('Preprocessed/LDA_dataframe_jokes.csv')"
   ]
  },
  {
   "cell_type": "markdown",
   "metadata": {},
   "source": [
    "## **Functions**"
   ]
  },
  {
   "cell_type": "code",
   "execution_count": 4,
   "metadata": {},
   "outputs": [],
   "source": [
    "def get_intrested_jokes(user_id,df,jokes_df,no_jokes,interest_threshold,joke_matpic):\n",
    "    \"\"\"\n",
    "    Finds the top \"no_jokes\" intrested jokes for active user\n",
    "\n",
    "    Args:\n",
    "        user_id (int): id of active user\n",
    "        df (pd.Dataframe): Dataframe of joke_ratings for all users(normalized)\n",
    "        jokes_df (pd.DataFrame): Dataframe of jokes after cleaning\n",
    "        no_jokes (int): no of jokes\n",
    "        interest_threshold (float b/w -1 to 1): rating threshold of intrest\n",
    "        joke_matpic (pd.DataFrame): Dataframe of joke main topics\n",
    "\n",
    "    Returns:\n",
    "        list<int>: list of joke ids of the top \"no_jokes\" intrested jokes for active user\n",
    "    \"\"\"\n",
    "    user_rating=df.loc[user_id-1]\n",
    "    # generation of intrested topics of jokes for the user\n",
    "    interested_topics=set([joke_matpic.loc[column-2] for column in df.columns[2:102] if(user_rating[column]<interest_threshold)])\n",
    "    \n",
    "    # finding new jokes for recommending\n",
    "    new_jokes=[] # intrested and unrated\n",
    "    old_jokes=[] # intrested and rated\n",
    "    other_jokes=[] # unintrested and unrated\n",
    "    worst_jokes=[] # unintrested and rated\n",
    "    for i in range(100):\n",
    "        if jokes_df['main_topic'][i] in interested_topics:\n",
    "            if user_rating[i+2] !=user_rating[i+2]:\n",
    "                new_jokes.append(i)\n",
    "            else:\n",
    "                old_jokes.append(i)\n",
    "        elif user_rating[i+2] !=user_rating[i+2]:\n",
    "            other_jokes.append(i)\n",
    "        else:\n",
    "            worst_jokes.append(i)\n",
    "            \n",
    "    #add new_jokes if needed\n",
    "    if(len(new_jokes)<no_jokes):\n",
    "        new_jokes+=old_jokes\n",
    "        if(len(new_jokes)<no_jokes):\n",
    "            if(no_jokes-len(new_jokes)>len(other_jokes)):\n",
    "                new_jokes+=other_jokes\n",
    "                new_jokes+=(sorted(worst_jokes,key=(lambda x: user_rating[x+2]))[::-1])[:no_jokes-len(new_jokes)]\n",
    "            else:\n",
    "                for i in np.random.choice(len(other_jokes),no_jokes-len(new_jokes),replace=False):\n",
    "                    new_jokes.append(other_jokes[i])\n",
    "                \n",
    "    \n",
    "    # choose randomly \"no_jokes\" no of jokes\n",
    "    for i in np.random.choice(len(new_jokes), no_jokes, replace=False):\n",
    "        new_jokes.append(new_jokes[i])\n",
    "    return new_jokes[(-1*no_jokes):]\n",
    "            \n",
    "def recommend_cbf(user_id,df,jokes_df):\n",
    "    \"\"\"\n",
    "    Recommends jokes based on cbf approach for given user\n",
    "    \n",
    "    Args:\n",
    "        user_id (int): id of active user\n",
    "        df (pd.Dataframe): Dataframe of joke_ratings for all users(normalized)\n",
    "        jokes_df (pd.DataFrame): Dataframe of jokes after cleaning\n",
    "    Returns:\n",
    "        None\n",
    "    \"\"\"\n",
    "    no_jokes=20 # no of jokes to recommend\n",
    "    interest_threshold=0.8 # threshold for chossing rating of interest\n",
    "    joke_matpic=jokes_df['main_topic'] # main topics of joke for finding interested topics of user \n",
    "    new_jokes=get_intrested_jokes(user_id,df,jokes_df,no_jokes,interest_threshold,joke_matpic)\n",
    "    \n",
    "    print(\"Recommending Jokes for user {}\".format(user_id))\n",
    "    for i,k in zip(range(no_jokes),new_jokes):\n",
    "        print(\"Joke {}: {}\".format(i+1,jokes_df['joke'][k]))"
   ]
  },
  {
   "cell_type": "markdown",
   "metadata": {},
   "source": [
    "## **Results**"
   ]
  },
  {
   "cell_type": "code",
   "execution_count": 12,
   "metadata": {},
   "outputs": [
    {
     "name": "stdout",
     "output_type": "stream",
     "text": [
      "Recommending Jokes for user 68388\n",
      "Joke 1: A couple has been married for 75 years. For the husband's 95thbirthday, his wife decides to surprise him by hiring a prostitute.That day, the doorbell rings. The husband uses his walker to get tothe door and opens it. A 21-year-old in a latex outfit smiles andsays, \"Hi, I here to give you super sex!\" The old man says, \"I'll take the soup.\"\n",
      "Joke 2: Q: How do you keep a computer programmer in the shower all day long?A: Give them a shampoo with a label that says\"rinse, lather, repeat\".\n",
      "Joke 3: Two attorneys went into a diner and ordered two drinks.  Then they produced sandwiches from their briefcases and started to eat.  The owner becamequite concerned and marched over and told them, \"You can't eat your ownsandwiches in here!\"The attorneys looked at each other, shrugged their shoulders and thenexchanged sandwiches.\n",
      "Joke 4: What do you call an American in the finals of the world cup?\"Hey Beer Man!\"\n",
      "Joke 5: A woman has twins, and gives them up for adoption.  One ofthem goes to a family in Egypt and is named \"Amal.\"  The other goes toa  family in Spain; they name him \"Juan.\"  Years later, Juan sends apicture of himself to his mom.  Upon receiving the picture, she tellsher husband that she wishes she also had a picture of Amal.  Her husband responds, \"But they are twins-if you've seen Juan, you'veseen   Amal.\n",
      "Joke 6: A horse walks into a bar. Bartender says:\"So, why the long face?\"\n",
      "Joke 7: Q: How many Presidents does it take to screw in a light bulb?A: It depends upon your definition of screwing a light bulb.\n",
      "Joke 8: Bill & Hillary are on a trip back to Arkansas. They're almost out of gas, so Bill pulls into a service station on the outskirts oftown. The attendant runs out of the station to serve them when Hillary realizes it's an old boyfriend from high school. She andthe attendant chat as he gases up their car and cleans the windows. Then they all say good-bye. As Bill pulls the car onto the road, he turns to Hillary and says, 'Now aren't you glad you married me and not him ? You could'vebeen the wife of a grease monkey !' To which Hillary replied, 'No, Bill. If I would have married him, you'd be pumping gas and he would be the President !' \n",
      "Joke 9: Q: How many stalkers does it take to change a light bulb?A: Two. One to replace the bulb, and the other to watch it day and night.\n",
      "Joke 10: A guy stood over his tee shot for what seemed an eternity, looking up, looking down, measuring the distance,figuring the wind direction and speed. Driving his partner nuts.Finally his exasperated partner says, \"What the hell is taking so long? Hit the goddamn ball!\"The guy answers, \"My wife is up there watching me from the clubhouse. I want to make this a perfect shot.\"\"Well, hell, man, you don't stand a snowball's chance in hell of hitting her from here!\" \n",
      "Joke 11: A radio conversation of a US naval ship with Canadian authorities ... Americans: Please divert your course 15 degrees to the North to avoid acollision.Canadians: Recommend you divert YOUR course 15 degrees to the South to avoid a collision.Americans: This is the Captain of a US Navy ship.  I say again, divert YOUR course.Canadians: No.  I say again, you divert YOUR course.Americans: This is the aircraft carrier USS LINCOLN, the second largest ship in the United States' Atlantic Fleet. We are accompanied by three destroyers, three cruisers and numerous support vessels. I demand that you change your course 15 degrees north, that's ONE FIVE DEGREES NORTH, or counter-measures will be undertaken to ensure the safety of this ship.Canadians: This is a lighthouse.  Your call.\n",
      "Joke 12: Just a thought ..Before criticizing someone, walk a mile in their shoes.  Then when you do criticize them, you will be a mile away and have their shoes !\n",
      "Joke 13: An old Scotsmen is sitting with a younger Scottish gentleman and says the boy. \"Ah, lad look out that window. You see that stone wall there, I built it withme own bare hands, placed every stone meself.  But do they call me MacGregor thewall builder? No! He Takes a few sips of his beer then says, \"Aye, and look out on that lake and eye that beautiful pier. I built it meself, laid every board and hammered eachnail but do they call me MacGregor the pier builder? No! He continues...\"And lad, you see that road? That too I build with me own bare hands. Laid every inch of pavement meself, but do they call MacGregor the roadbuilder? No!\"Again he returns to his beer for a few sips, then says, \"Agh, but you screw one sheep...\"\n",
      "Joke 14: Reaching the end of a job interview, the human resources person asked ayoung engineer fresh out of Stanford,\"And what starting salary were you looking for?\"The engineer said, \"In the neighborhood of $125,000 a year, dependingon the benefits package.\"The interviewer said, \"Well, what would you say to a package of 5-weeks vacation, 14 paid holidays, full medical and dental, company matching retirement fund to 50% of salary, and a company car leased every 2 years - say, a red Corvette?\"The Engineer sat up straight and said, \"Wow! Are you kidding?\"And the interviewer replied, \"Yeah, but you started it.\"\n",
      "Joke 15: Two Rednecks were seated at the end of a bar when a young ladyseated a few stools up began to choke on a piece of hamburger.  She wasturning blue and obviously in serious respiratory distress.One said to the other, \"That gal there is having a bad time!\" The other agreed and said \"Think we should go help?\"  \"You bet,\" said thefirst,and with that, he ran over and said, \"Can you breathe??\"  She shookher head no.  He said, \"Can you speak??\"  She again shook her head no.With that, he pulled up her skirt and licked her on the butt.She was so shocked, she coughed up the obstruction and began tobreathe-with great relief.The redneck walked back to hisfriend and said, \"Funny how that hind lick maneuver always works.\"\n",
      "Joke 16: A Jewish young man was seeing a psychiatrist for an eating andsleeping disorder. \"I am so obsessed with my mother... As soon as I go to sleep, I startdreaming, and everyone in my dream turns into my mother. I wake up insuch a state, all I can do is go downstairs and eat a piece of toast.\"The psychiatrist replies:\"What, just one piece of toast, for a big boy like you?\"\n",
      "Joke 17: Q: What is the difference between Mechanical Engineers and Civil Engineers? A: Mechanical Engineers build weapons, Civil Engineers build targets.\n",
      "Joke 18: Early one morning a mother went to her sleeping son and woke him up.\"Wake up, son.  It's time to go to school.\" \"But why, Mama?  I don't want to go to school.\" \"Give me two reasons why you don't want to go to school.\" \"One, all the children hate me. Two, all the teachers hate me,\" \"Oh! that's no reason. Come on, you have to go to school,\" \"Give me two good reasons WHY I should go to school?\"  \"One, you are fifty-two years old. Two, you are the principal of the school.\" \n",
      "Joke 19: Q: What is the difference between George  Washington, Richard Nixon,and Bill Clinton?A: Washington couldn't tell a lie, Nixon couldn't   tell the truth, andClinton doesn't know the difference.\n",
      "Joke 20: What did the Buddhist say to the hot dog vendor?Make me one with everything.\n"
     ]
    }
   ],
   "source": [
    "user_id = 68388\n",
    "recommend_cbf(user_id,dataframe_robust_ratings,LDA_dataframe_jokes)"
   ]
  },
  {
   "cell_type": "markdown",
   "metadata": {},
   "source": [
    "## **Evaluation**"
   ]
  },
  {
   "cell_type": "code",
   "execution_count": null,
   "metadata": {},
   "outputs": [],
   "source": []
  }
 ],
 "metadata": {
  "kernelspec": {
   "display_name": "Python 3",
   "language": "python",
   "name": "python3"
  },
  "language_info": {
   "codemirror_mode": {
    "name": "ipython",
    "version": 3
   },
   "file_extension": ".py",
   "mimetype": "text/x-python",
   "name": "python",
   "nbconvert_exporter": "python",
   "pygments_lexer": "ipython3",
   "version": "3.10.1"
  }
 },
 "nbformat": 4,
 "nbformat_minor": 2
}
