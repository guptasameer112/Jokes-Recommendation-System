{
  "nbformat": 4,
  "nbformat_minor": 0,
  "metadata": {
    "colab": {
      "provenance": []
    },
    "kernelspec": {
      "name": "python3",
      "display_name": "Python 3"
    },
    "language_info": {
      "name": "python"
    }
  },
  "cells": [
    {
      "cell_type": "markdown",
      "source": [
        "# **Imports**"
      ],
      "metadata": {
        "id": "4VLxyrblpTyT"
      }
    },
    {
      "cell_type": "code",
      "source": [
        "import random\n",
        "import pandas as pd\n",
        "import numpy as np\n"
      ],
      "metadata": {
        "id": "6YuX0YL5pXAM"
      },
      "execution_count": 22,
      "outputs": []
    },
    {
      "cell_type": "markdown",
      "source": [
        "# **DataFrames**"
      ],
      "metadata": {
        "id": "672oiSHzpPsv"
      }
    },
    {
      "cell_type": "code",
      "execution_count": 4,
      "metadata": {
        "id": "4ChY7gx2fHj4"
      },
      "outputs": [],
      "source": [
        "dataframe_jokes = pd.read_csv(\"/content/jokes_dataframe.csv\")\n",
        "dataframe_ratings = pd.read_csv(\"/content/rating_dataframe.csv\")"
      ]
    },
    {
      "cell_type": "code",
      "source": [
        "print(dataframe_jokes.head())\n",
        "print(dataframe_ratings.head())"
      ],
      "metadata": {
        "colab": {
          "base_uri": "https://localhost:8080/"
        },
        "id": "zW0hirFApngL",
        "outputId": "1b57874a-ffa9-4f19-fe99-0d4063f152d6"
      },
      "execution_count": 5,
      "outputs": [
        {
          "output_type": "stream",
          "name": "stdout",
          "text": [
            "   joke_id                                               joke\n",
            "0        1  A man visits the doctor. The doctor says \"I ha...\n",
            "1        2  This couple had an excellent relationship goin...\n",
            "2        3  Q. What's 200 feet long and has 4 teeth? A. Th...\n",
            "3        4  Q. What's the difference between a man and a t...\n",
            "4        5  Q.\\tWhat's O. J. Simpson's Internet address? A...\n",
            "   user_id  number_of_jokes_rated  joke_1  joke_2  joke_3  joke_4  joke_5  \\\n",
            "0        1                     74   -7.82    8.79   -9.66   -8.16   -7.52   \n",
            "1        2                    100    4.08   -0.29    6.36    4.37   -2.38   \n",
            "2        3                     49   99.00   99.00   99.00   99.00    9.03   \n",
            "3        4                     48   99.00    8.35   99.00   99.00    1.80   \n",
            "4        5                     91    8.50    4.61   -4.17   -5.39    1.36   \n",
            "\n",
            "   joke_6  joke_7  joke_8  ...  joke_91  joke_92  joke_93  joke_94  joke_95  \\\n",
            "0   -8.50   -9.85    4.17  ...     2.82    99.00    99.00    99.00    99.00   \n",
            "1   -9.66   -0.73   -5.34  ...     2.82    -4.95    -0.29     7.86    -0.19   \n",
            "2    9.27    9.03    9.27  ...    99.00    99.00    99.00     9.08    99.00   \n",
            "3    8.16   -2.82    6.21  ...    99.00    99.00    99.00     0.53    99.00   \n",
            "4    1.60    7.04    4.61  ...     5.19     5.58     4.27     5.19     5.73   \n",
            "\n",
            "   joke_96  joke_97  joke_98  joke_99  joke_100  \n",
            "0    99.00    -5.63    99.00    99.00     99.00  \n",
            "1    -2.14     3.06     0.34    -4.32      1.07  \n",
            "2    99.00    99.00    99.00    99.00     99.00  \n",
            "3    99.00    99.00    99.00    99.00     99.00  \n",
            "4     1.55     3.11     6.55     1.80      1.60  \n",
            "\n",
            "[5 rows x 102 columns]\n"
          ]
        }
      ]
    },
    {
      "cell_type": "markdown",
      "source": [
        "Note: Currently working with non-normalized data."
      ],
      "metadata": {
        "id": "dFwr3JWjp_gs"
      }
    },
    {
      "cell_type": "markdown",
      "source": [
        "# **Model**"
      ],
      "metadata": {
        "id": "c4JtZjgWpu-m"
      }
    },
    {
      "cell_type": "markdown",
      "source": [
        "Note: Currently training on entire dataset, no train test split."
      ],
      "metadata": {
        "id": "NyyTSQ97qZQO"
      }
    },
    {
      "cell_type": "markdown",
      "source": [
        "## **Preprocessing**"
      ],
      "metadata": {
        "id": "A2qmZ4j7qoHd"
      }
    },
    {
      "cell_type": "code",
      "source": [
        "dataframe_dense_rating = dataframe_ratings[dataframe_ratings['number_of_jokes_rated'] == 100] # Dense\n",
        "dataframe_sparse_rating = dataframe_ratings[dataframe_ratings['number_of_jokes_rated'] < 100] # Sparse"
      ],
      "metadata": {
        "id": "nGlH4FbHpw_q"
      },
      "execution_count": 6,
      "outputs": []
    },
    {
      "cell_type": "code",
      "source": [
        "print(\"Shape of dense ratings dataframe: \", dataframe_dense_rating.shape)\n",
        "print(\"Users with all ratings: \", dataframe_dense_rating.shape[0])\n",
        "print(dataframe_dense_rating.head(2))\n",
        "\n",
        "print()\n",
        "print()\n",
        "\n",
        "print(\"Shape of sparse ratings dataframe: \", dataframe_sparse_rating.shape)\n",
        "print(\"Users with incomplete ratings: \", dataframe_sparse_rating.shape[0])\n",
        "print(dataframe_sparse_rating.head(2))"
      ],
      "metadata": {
        "colab": {
          "base_uri": "https://localhost:8080/"
        },
        "id": "11pIxd7DrD-t",
        "outputId": "1a9c5012-2d79-4d0a-ad27-ff15084a8eac"
      },
      "execution_count": 11,
      "outputs": [
        {
          "output_type": "stream",
          "name": "stdout",
          "text": [
            "Shape of dense ratings dataframe:  (14116, 102)\n",
            "Users with all ratings:  14116\n",
            "   user_id  number_of_jokes_rated  joke_1  joke_2  joke_3  joke_4  joke_5  \\\n",
            "1        2                    100    4.08   -0.29    6.36    4.37   -2.38   \n",
            "5        6                    100   -6.17   -3.54    0.44   -8.50   -7.09   \n",
            "\n",
            "   joke_6  joke_7  joke_8  ...  joke_91  joke_92  joke_93  joke_94  joke_95  \\\n",
            "1   -9.66   -0.73   -5.34  ...     2.82    -4.95    -0.29     7.86    -0.19   \n",
            "5   -4.32   -8.69   -0.87  ...    -3.54    -6.89    -0.68    -2.96    -2.18   \n",
            "\n",
            "   joke_96  joke_97  joke_98  joke_99  joke_100  \n",
            "1    -2.14     3.06     0.34    -4.32      1.07  \n",
            "5    -3.35     0.05    -9.08    -5.05     -3.45  \n",
            "\n",
            "[2 rows x 102 columns]\n",
            "\n",
            "\n",
            "Shape of sparse ratings dataframe:  (59305, 102)\n",
            "Users with incomplete ratings:  59305\n",
            "   user_id  number_of_jokes_rated  joke_1  joke_2  joke_3  joke_4  joke_5  \\\n",
            "0        1                     74   -7.82    8.79   -9.66   -8.16   -7.52   \n",
            "2        3                     49   99.00   99.00   99.00   99.00    9.03   \n",
            "\n",
            "   joke_6  joke_7  joke_8  ...  joke_91  joke_92  joke_93  joke_94  joke_95  \\\n",
            "0   -8.50   -9.85    4.17  ...     2.82     99.0     99.0    99.00     99.0   \n",
            "2    9.27    9.03    9.27  ...    99.00     99.0     99.0     9.08     99.0   \n",
            "\n",
            "   joke_96  joke_97  joke_98  joke_99  joke_100  \n",
            "0     99.0    -5.63     99.0     99.0      99.0  \n",
            "2     99.0    99.00     99.0     99.0      99.0  \n",
            "\n",
            "[2 rows x 102 columns]\n"
          ]
        }
      ]
    },
    {
      "cell_type": "markdown",
      "source": [
        "## **Prediction User**"
      ],
      "metadata": {
        "id": "Yk2QpviUspzZ"
      }
    },
    {
      "cell_type": "code",
      "source": [
        "# Picking a prediction User\n",
        "\n",
        "prediction_user_id = random.choice(dataframe_sparse_rating['user_id'].values)\n",
        "prediction_user_known_ratings = dataframe_sparse_rating[dataframe_sparse_rating['user_id'] == prediction_user_id].iloc[:, 2:]"
      ],
      "metadata": {
        "id": "joKyjhLDrRxY"
      },
      "execution_count": 13,
      "outputs": []
    },
    {
      "cell_type": "code",
      "source": [
        "print(\"User ID of predictive user:\", prediction_user_id)\n",
        "print(\"Rating Dataframe for predictive user: \\n\", prediction_user_known_ratings)"
      ],
      "metadata": {
        "colab": {
          "base_uri": "https://localhost:8080/"
        },
        "id": "G6Knak9Gt0Rk",
        "outputId": "b2244cf3-7316-400a-bb9a-e897add5ccbe"
      },
      "execution_count": 15,
      "outputs": [
        {
          "output_type": "stream",
          "name": "stdout",
          "text": [
            "User ID of predictive user: 68388\n",
            "Rating Dataframe for predictive user: \n",
            "        joke_1  joke_2  joke_3  joke_4  joke_5  joke_6  joke_7  joke_8  joke_9  \\\n",
            "68387    99.0    99.0    99.0    99.0    2.82    99.0    2.67    5.05    99.0   \n",
            "\n",
            "       joke_10  ...  joke_91  joke_92  joke_93  joke_94  joke_95  joke_96  \\\n",
            "68387     99.0  ...     99.0     99.0     99.0     99.0     99.0     99.0   \n",
            "\n",
            "       joke_97  joke_98  joke_99  joke_100  \n",
            "68387     99.0     99.0     99.0      99.0  \n",
            "\n",
            "[1 rows x 100 columns]\n"
          ]
        }
      ]
    },
    {
      "cell_type": "code",
      "source": [
        "# All unrated jokes from the prediction user\n",
        "\n",
        "prediction_user_unknown_jokes = []\n",
        "for column in dataframe_sparse_rating.columns:\n",
        "  if (dataframe_sparse_rating[column].values[0] == 99): # 99 == Jokes with no ratings\n",
        "    prediction_user_unknown_jokes.append(column)\n",
        "\n",
        "print(\"There are {} jokes unrated by user {}.\".format(len(prediction_user_unknown_jokes), prediction_user_id))"
      ],
      "metadata": {
        "colab": {
          "base_uri": "https://localhost:8080/"
        },
        "id": "8yQ980Qxsxki",
        "outputId": "f3e416ef-ed49-45d4-e9c1-e75479e14fe8"
      },
      "execution_count": 20,
      "outputs": [
        {
          "output_type": "stream",
          "name": "stdout",
          "text": [
            "There are 26 jokes unrated by user 68388.\n"
          ]
        }
      ]
    },
    {
      "cell_type": "markdown",
      "source": [
        "### **Similarity (requires explaination and changes)**"
      ],
      "metadata": {
        "id": "2WC33FZd5ZK-"
      }
    },
    {
      "cell_type": "markdown",
      "source": [
        "We will be finding Similarity between prediction user and other dense users."
      ],
      "metadata": {
        "id": "VoXL1xM45fvZ"
      }
    },
    {
      "cell_type": "markdown",
      "source": [
        "**CHANGES**"
      ],
      "metadata": {
        "id": "SrzS8xpn6uR4"
      }
    },
    {
      "cell_type": "code",
      "source": [
        "prediction_user_known_ratings_list = prediction_user_known_ratings.values.ravel()\n",
        "\n",
        "\n",
        "def weight_factor(x, y):\n",
        "    '''\n",
        "    Weight factor implies relationship between user x and user y\n",
        "    Also know as similarity between user x and user y\n",
        "    We are using Pearson correlation coefficient here.\n",
        "    '''\n",
        "    t1, t2, t3 = 0, 0, 0\n",
        "    for i, j in zip(x, y):\n",
        "        t1+=i*j\n",
        "        t2+=i*i\n",
        "        t3+=j*j\n",
        "    return t1/(np.sqrt(t2) * np.sqrt(t3))\n",
        "\n",
        "similarity = np.array([(dataframe_dense_rating.iloc[i, 0], \\\n",
        "                        weight_factor(prediction_user_known_ratings_list, dataframe_dense_rating.iloc[i, 2:])) \\\n",
        "                       for i in range(dataframe_dense_rating.shape[0])])"
      ],
      "metadata": {
        "id": "vEqdWx4u5elo"
      },
      "execution_count": 23,
      "outputs": []
    },
    {
      "cell_type": "code",
      "source": [
        "print(similarity.size)\n",
        "print(similarity)"
      ],
      "metadata": {
        "colab": {
          "base_uri": "https://localhost:8080/"
        },
        "id": "1vm22nRa6sRe",
        "outputId": "d6a57a5a-0763-4da0-cf56-63453d8edd90"
      },
      "execution_count": 25,
      "outputs": [
        {
          "output_type": "stream",
          "name": "stdout",
          "text": [
            "28232\n",
            "[[ 2.00000000e+00  5.16968547e-01]\n",
            " [ 6.00000000e+00 -7.73191952e-01]\n",
            " [ 8.00000000e+00 -4.10495688e-01]\n",
            " ...\n",
            " [ 4.84580000e+04  5.05438251e-02]\n",
            " [ 4.84800000e+04  3.44932880e-02]\n",
            " [ 4.84820000e+04  6.55219676e-01]]\n"
          ]
        }
      ]
    },
    {
      "cell_type": "markdown",
      "source": [
        "**CHANGES**"
      ],
      "metadata": {
        "id": "RGveFGja7LyU"
      }
    },
    {
      "cell_type": "code",
      "source": [
        "# Sorting the neighbours using similarity\n",
        "\n",
        "similarity = similarity[np.argsort(similarity[:, 1])]\n",
        "print(\"Sorted Neighbours based on Similarity (neighbour, similarity): \\n\", similarity)"
      ],
      "metadata": {
        "colab": {
          "base_uri": "https://localhost:8080/"
        },
        "id": "CYZ4VwXt7KhL",
        "outputId": "6da2c004-d198-4174-d28a-0f373771038a"
      },
      "execution_count": 29,
      "outputs": [
        {
          "output_type": "stream",
          "name": "stdout",
          "text": [
            "Sorted Neighbours based on Similarity (neighbour, similarity): \n",
            " [[ 1.95680000e+04 -9.03424824e-01]\n",
            " [ 9.99000000e+02 -8.83088302e-01]\n",
            " [ 7.53500000e+03 -8.63711195e-01]\n",
            " ...\n",
            " [ 3.16850000e+04  8.97358214e-01]\n",
            " [ 4.49880000e+04  9.05677957e-01]\n",
            " [ 3.85090000e+04  9.18734042e-01]]\n"
          ]
        }
      ]
    },
    {
      "cell_type": "markdown",
      "source": [
        "## **Neighbours of Predictive User**"
      ],
      "metadata": {
        "id": "KWLdiLfe706R"
      }
    },
    {
      "cell_type": "code",
      "source": [
        "## Number of Neighbours of Predictive User\n",
        "\n",
        "number_of_neighbours = 30 # For now choose 30 neighbours\n",
        "neigbours_similarity_set = similarity[similarity[:, 1] > 0.1] # Thresholding to similarity of 0.1\n",
        "print(\"We have {} neighbours.\".format(neigbours_similarity_set.shape[0]))\n",
        "\n",
        "random_neigbhour_indexes = np.random.choice(neigbours_similarity_set.shape[0], number_of_neighbours, replace=False)\n",
        "predictive_user_neigbours = neigbours_similarity_set[random_neigbhour_indexes]\n",
        "\n",
        "print(\"Shape of neigbours array (Neighbour Index, Similarity):\", predictive_user_neigbours.shape)"
      ],
      "metadata": {
        "colab": {
          "base_uri": "https://localhost:8080/"
        },
        "id": "CeCyTwUj7788",
        "outputId": "e0805398-f18e-45cf-e938-aaa80e309be7"
      },
      "execution_count": 38,
      "outputs": [
        {
          "output_type": "stream",
          "name": "stdout",
          "text": [
            "We have 7915 neighbours.\n",
            "Shape of neigbours array (Neighbour Index, Similarity): (30, 2)\n"
          ]
        }
      ]
    },
    {
      "cell_type": "code",
      "source": [
        "# Ratings given by neigbhours to unrated_predictive_user_jokes\n",
        "\n",
        "neighbours_user_ids = neigbours_similarity_set[:, 0].astype(int)\n",
        "dataframe_neighbours = dataframe_dense_rating[dataframe_dense_rating['user_id'].isin(neighbours_user_ids)]\n",
        "dataframe_neighbours_unrated_jokes = dataframe_neighbours[prediction_user_unknown_jokes]\n",
        "\n",
        "print(\"Shape of neighbours rating for unknown jokes of predictive user:\", dataframe_neighbours_unrated_jokes.shape)\n",
        "# 26 unrated jokes with 7915 users rating of them\n",
        "\n",
        "print(dataframe_neighbours_unrated_jokes)"
      ],
      "metadata": {
        "colab": {
          "base_uri": "https://localhost:8080/"
        },
        "id": "3y-BSHLF-Cnj",
        "outputId": "d5d267f4-2ec4-441a-e92b-afce54544c71"
      },
      "execution_count": 39,
      "outputs": [
        {
          "output_type": "stream",
          "name": "stdout",
          "text": [
            "Shape of neighbours rating for unknown jokes of predictive user: (7915, 26)\n",
            "       joke_71  joke_72  joke_73  joke_74  joke_75  joke_76  joke_77  joke_79  \\\n",
            "1        -5.00     2.77     8.30     7.77     7.33     6.21     7.72     8.64   \n",
            "13       -7.57     8.93     0.15     8.93    -6.21     8.35     3.35    -8.45   \n",
            "17        0.58     5.92     3.88     0.78     2.62     7.48     7.38     7.86   \n",
            "23        6.65     7.28     0.34     3.30    -0.92     7.43     2.77     6.46   \n",
            "30       -0.34     2.91    -6.07    -6.07    -5.97     7.28    -7.09    -7.18   \n",
            "...        ...      ...      ...      ...      ...      ...      ...      ...   \n",
            "48430     8.59     2.72     1.55    -6.75    -1.89     2.82    -6.46    -7.48   \n",
            "48433    -2.77     6.17     5.19     2.09    -1.55    -0.49     2.43    -2.82   \n",
            "48439    -7.43     5.10    -0.34     7.18     7.23     7.82     6.89     6.84   \n",
            "48451    -2.33     8.59     3.50     2.23     1.89     7.09     7.72     2.86   \n",
            "48481     4.47     2.82     2.82     2.82     2.77     6.36     3.54    -0.15   \n",
            "\n",
            "       joke_80  joke_81  ...  joke_89  joke_90  joke_92  joke_93  joke_94  \\\n",
            "1         8.20     3.93  ...     4.56     0.58    -4.95    -0.29     7.86   \n",
            "13        8.79     8.88  ...     8.45     2.09    -1.02     5.58     6.84   \n",
            "17        6.65     7.33  ...     7.72     5.10     5.68     3.69     0.19   \n",
            "23        5.53     7.43  ...     8.50     2.67     8.25     8.50    -9.51   \n",
            "30       -7.48     2.14  ...     9.17     0.73    -0.78     5.68    -1.70   \n",
            "...        ...      ...  ...      ...      ...      ...      ...      ...   \n",
            "48430    -6.70     7.18  ...     4.76     5.15     3.45     4.32     0.87   \n",
            "48433     4.71    -1.50  ...     1.84     5.39     2.67     2.86     6.46   \n",
            "48439     6.17     7.33  ...     7.09    -3.06     8.11     7.23    -7.33   \n",
            "48451    -1.26     8.79  ...     8.54     2.86     2.33     9.03     6.46   \n",
            "48481     2.62     1.12  ...     2.82     5.15     1.07     4.27     3.35   \n",
            "\n",
            "       joke_95  joke_96  joke_98  joke_99  joke_100  \n",
            "1        -0.19    -2.14     0.34    -4.32      1.07  \n",
            "13        5.53    -5.92     8.98    -8.16      6.50  \n",
            "17        0.29     3.59     8.06     0.49      7.62  \n",
            "23        8.45     8.16     8.50     8.35     -8.35  \n",
            "30       -1.70    -1.70    -5.05     1.65     -5.05  \n",
            "...        ...      ...      ...      ...       ...  \n",
            "48430     3.25     6.17     0.05    -7.28     -1.65  \n",
            "48433     4.42     2.23     3.69    -6.02     -3.11  \n",
            "48439     6.75    -0.29     6.80    -0.44     -0.44  \n",
            "48451     3.83     1.89     2.23     1.84     -9.51  \n",
            "48481     0.63     2.38     2.57     1.94      3.98  \n",
            "\n",
            "[7915 rows x 26 columns]\n"
          ]
        }
      ]
    },
    {
      "cell_type": "markdown",
      "source": [
        "**CHANGES**"
      ],
      "metadata": {
        "id": "ruGeBkqNBsXY"
      }
    },
    {
      "cell_type": "code",
      "source": [
        "# Let's predict rating for one joke!\n",
        "\n",
        "neighbours_similarity = neigbours_similarity_set[:, 1]\n",
        "first_unrated_joke = prediction_user_unknown_jokes[0]\n",
        "print(\"We are predicting score for joke {} for sparse user {}\".format((first_unrated_joke), (prediction_user_id)))\n",
        "\n",
        "\n",
        "# No mean rating yet, so 0\n",
        "def score_user_item(item_id, neighbours_df,neighbour_user_similarity, active_user_mean_rating = 0):\n",
        "    item_rating = neighbours_df[item_id]\n",
        "    t1, t2 = 0, 0\n",
        "    for similarity, norm_rating in zip(neighbour_user_similarity, item_rating):\n",
        "        t1+= norm_rating * similarity\n",
        "        t2+= similarity\n",
        "    score = (t1 + active_user_mean_rating)/t2\n",
        "    return score\n",
        "\n",
        "unrated_joke_score = score_user_item(first_unrated_joke, dataframe_neighbours_unrated_jokes, neighbours_similarity, 0)\n",
        "print(\"The rating we found for joke {} for sparse user {} is: {}\".format((first_unrated_joke), (prediction_user_id), (unrated_joke_score)))\n",
        "\n"
      ],
      "metadata": {
        "colab": {
          "base_uri": "https://localhost:8080/"
        },
        "id": "ijMJACA3_qQK",
        "outputId": "4b1bd0f9-abba-4c1f-93c3-82324172839b"
      },
      "execution_count": 42,
      "outputs": [
        {
          "output_type": "stream",
          "name": "stdout",
          "text": [
            "We are predicting score for joke joke_71 for sparse user 68388\n",
            "The rating we found for joke joke_71 for sparse user 68388 is: 1.2257220925787329\n"
          ]
        }
      ]
    },
    {
      "cell_type": "code",
      "source": [
        "# From all unrated jokes, calculate of their scores, and get the highest score and reveal the corresponding joke\n",
        "\n",
        "max_score = -np.inf\n",
        "max_score_joke = None\n",
        "\n",
        "joke_score = []\n",
        "\n",
        "for column in dataframe_neighbours_unrated_jokes.columns:\n",
        "    score = score_user_item(column, dataframe_neighbours_unrated_jokes, neighbours_similarity, 0)\n",
        "    joke_score.append([column, score])\n",
        "    if score > max_score:\n",
        "        max_score = score\n",
        "        max_score_joke = column\n",
        "\n",
        "print(\"We are recommending {} with highest score {} \\n \\n\".format(max_score_joke, max_score))\n",
        "print(\"The list for unrated jokes and their ratings: \\n\", joke_score)"
      ],
      "metadata": {
        "colab": {
          "base_uri": "https://localhost:8080/"
        },
        "id": "cyXfZPV_CT0A",
        "outputId": "78a1a6cf-8997-41d5-fda2-488f697d556b"
      },
      "execution_count": 44,
      "outputs": [
        {
          "output_type": "stream",
          "name": "stdout",
          "text": [
            "We are recommending joke_89 with highest score 5.124806284808203 \n",
            " \n",
            "\n",
            "The list for unrated jokes and their ratings: \n",
            " [['joke_71', 1.2257220925787329], ['joke_72', 4.577008242658604], ['joke_73', 3.1435248091336505], ['joke_74', 0.8329404171928685], ['joke_75', 1.7855913421750929], ['joke_76', 4.273766717820955], ['joke_77', 3.010575528999967], ['joke_79', 2.422915977457838], ['joke_80', 3.204162360398013], ['joke_81', 3.8431236610956163], ['joke_83', 4.024977080517668], ['joke_84', 2.903342427274737], ['joke_85', 2.9447939703747434], ['joke_86', 2.345377631113283], ['joke_87', 3.765443932346663], ['joke_88', 4.056456384260266], ['joke_89', 5.124806284808203], ['joke_90', 2.7582301522472736], ['joke_92', 3.4256682527527063], ['joke_93', 4.2464078739141655], ['joke_94', 3.174933889579803], ['joke_95', 3.0973997105820583], ['joke_96', 3.5092856686068066], ['joke_98', 2.9438557348215646], ['joke_99', 2.22036734370685], ['joke_100', 3.0484729377648567]]\n"
          ]
        }
      ]
    }
  ]
}